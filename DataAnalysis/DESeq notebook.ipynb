{
 "cells": [
  {
   "cell_type": "markdown",
   "metadata": {},
   "source": [
    "## DESeq processing\n",
    "\n",
    "This is a Jupyter notebook.\n",
    "\n",
    "To run all cells in the notebook use `Cell --> Run All`.\n",
    "\n",
    "To run cells one at a time click into the first code cell and key `Shift-Enter` in each cell in sequence.\n",
    "\n",
    "More information on Jupyter notebooks can be found\n",
    "[here](http://jupyter-notebook.readthedocs.io/en/stable/examples/Notebook/Running%20Code.html)."
   ]
  },
  {
   "cell_type": "code",
   "execution_count": 1,
   "metadata": {},
   "outputs": [],
   "source": [
    "## Set the plot window sizes within the notebook (in inches)\n",
    "options(repr.plot.width=6, repr.plot.height=6)"
   ]
  },
  {
   "cell_type": "code",
   "execution_count": 2,
   "metadata": {},
   "outputs": [],
   "source": [
    "## Set the arguments to easy-to-read names\n",
    "fn.peps <- './data/CMT_peps.csv'  # PEP lists created in the expression pipeline. This is also Supp Table 1 in the manuscript \n",
    "\n",
    "## Filenames that don't change between users\n",
    "data.dir      <- './data/' # Directory of FREYA-provided data\n",
    "fn.brca.seq   <- paste0(data.dir,'BRCA_rnaseq_paired_noMets.t.txt')\n",
    "fn.brca.pam50 <- paste0(data.dir,'BRCA_tumorVSnormal_paired.txt')\n",
    "fn.geneconvs  <- paste0(data.dir,'Canine_Human_Gene_Conversion.txt') # Human-dog gene conversion\n",
    "fn.cosmic     <- paste0(data.dir,'roles_in_cancer.csv') # COSMIC genes list, should download most recent version instead of using included one?\n",
    "\n",
    "## Make sure all of the required files exist - quit if any are missing\n",
    "for( fn in c(fn.peps, fn.brca.seq, fn.brca.pam50, fn.geneconvs, fn.cosmic) ) {\n",
    "  if(!file.exists(fn)) { print(paste('ERROR: Unable to locate',fn))}\n",
    "}"
   ]
  },
  {
   "cell_type": "code",
   "execution_count": 3,
   "metadata": {},
   "outputs": [],
   "source": [
    "# Create an output directory for artifacts (if it doesn't already exists)\n",
    "system('mkdir -p ./user_data/output')\n",
    "\n",
    "# Set the output filenames\n",
    "pep.roles     <- \"./user_data/output/PEP_Roles_in_Cancer_Barplot.pdf\"\n",
    "pep.roles.csv <- './user_data/output/PEP_Roles_in_Cancer_summary.csv'\n",
    "pep.change    <- './user_data/output/PEP_BRCA_AbsLogFoldChange.pdf'"
   ]
  },
  {
   "cell_type": "code",
   "execution_count": 4,
   "metadata": {},
   "outputs": [
    {
     "name": "stdout",
     "output_type": "stream",
     "text": [
      "[1] \"Loading packages...\"\n"
     ]
    },
    {
     "name": "stderr",
     "output_type": "stream",
     "text": [
      "Bioconductor version 3.6 (BiocInstaller 1.28.0), ?biocLite for help\n",
      "BioC_mirror: https://bioconductor.org\n",
      "Using Bioconductor 3.6 (BiocInstaller 1.28.0), R 3.4.2 (2017-09-28).\n",
      "Installing package(s) ‘impute’\n",
      "Old packages: 'backports', 'BH', 'bindr', 'bindrcpp', 'blob', 'broom', 'callr',\n",
      "  'cluster', 'curl', 'DBI', 'dbplyr', 'devtools', 'digest', 'forcats',\n",
      "  'foreach', 'gdtools', 'git2r', 'glmnet', 'haven', 'hexbin', 'Hmisc', 'hms',\n",
      "  'htmlTable', 'htmlwidgets', 'httpuv', 'hunspell', 'igraph', 'irlba',\n",
      "  'iterators', 'knitr', 'littler', 'lubridate', 'mapproj', 'maps', 'MASS',\n",
      "  'Matrix', 'mgcv', 'microbenchmark', 'mvtnorm', 'nlme', 'openssl', 'pbdZMQ',\n",
      "  'plogr', 'psych', 'quantreg', 'Rcpp', 'remotes', 'reprex', 'reshape2',\n",
      "  'rlang', 'rmarkdown', 'RMySQL', 'rpart', 'rprojroot', 'RSQLite', 'selectr',\n",
      "  'sp', 'stringdist', 'stringi', 'stringr', 'testthat', 'tibble', 'tidyr',\n",
      "  'tidyselect', 'viridis', 'viridisLite', 'withr', 'XML', 'xml2', 'yaml', 'zoo'\n",
      "Loading required package: impute\n",
      "Loading required package: matrixStats\n",
      "\n",
      "Attaching package: ‘plyr’\n",
      "\n",
      "The following object is masked from ‘package:matrixStats’:\n",
      "\n",
      "    count\n",
      "\n"
     ]
    }
   ],
   "source": [
    "## Load libraries\n",
    "print('Loading packages...');flush.console()\n",
    "\n",
    "source(\"https://bioconductor.org/biocLite.R\")\n",
    "library(BiocInstaller)\n",
    "biocLite(\"impute\")\n",
    "\n",
    "library(samr)\n",
    "library(ggplot2)\n",
    "library(plyr)"
   ]
  },
  {
   "cell_type": "code",
   "execution_count": 5,
   "metadata": {},
   "outputs": [],
   "source": [
    "## Load the PEPs\n",
    "peps      <- read.table(fn.peps, sep=',', header=TRUE, stringsAsFactors=FALSE)\n",
    "pep.genes <- c( peps[peps$Adenoma_Expression_Pattern < 0.05,'HumanSymbol'], peps[peps$Tumor_Expression_Pattern < 0.05,'HumanSymbol'], peps[peps$Carcinoma_Expression_Pattern < 0.05,'HumanSymbol'] )\n",
    "\n",
    "## Create PEP lists using 0.05 qvalue cutoff\n",
    "pep.lists <- data.frame(Gene=pep.genes, PEP=rep(NA, length(pep.genes)))\n",
    "pep.lists[ pep.lists$Gene %in% peps[peps$Adenoma_Expression_Pattern < 0.05,'HumanSymbol'], 'PEP']   <- 'Adenoma'\n",
    "pep.lists[ pep.lists$Gene %in% peps[peps$Carcinoma_Expression_Pattern < 0.05,'HumanSymbol'], 'PEP'] <- 'Carcinoma'\n",
    "pep.lists[ pep.lists$Gene %in% peps[peps$Tumor_Expression_Pattern < 0.05,'HumanSymbol'], 'PEP']     <- 'Tumor'\n",
    "peps <- pep.lists"
   ]
  },
  {
   "cell_type": "code",
   "execution_count": 6,
   "metadata": {},
   "outputs": [],
   "source": [
    "## Load the data\n",
    "dat <- read.table(fn.brca.seq, sep='\\t', header=TRUE, row.names=1, check.names=FALSE)\n",
    "dat <- as.matrix(dat) + 1\n",
    "dat <- log(dat, base=2)"
   ]
  },
  {
   "cell_type": "code",
   "execution_count": 7,
   "metadata": {},
   "outputs": [],
   "source": [
    "## Load the labels and subset to the labeled data\n",
    "labs <- read.table(fn.brca.pam50, header=FALSE, row.names=1, check.names=FALSE)\n",
    "ids  <- intersect( rownames(labs), rownames(dat) )\n",
    "dat  <- dat[ids,]\n",
    "labs <- labs[ids,]"
   ]
  },
  {
   "cell_type": "code",
   "execution_count": 8,
   "metadata": {},
   "outputs": [],
   "source": [
    "## Subset to homologous genes\n",
    "genes.all <- read.table(fn.geneconvs, sep='\\t', header=TRUE, stringsAsFactors=FALSE)"
   ]
  },
  {
   "cell_type": "code",
   "execution_count": 9,
   "metadata": {},
   "outputs": [],
   "source": [
    "## Subset PEP list to those also in human data, for our stats\n",
    "dat.ovlp <- t(dat[,colnames(dat) %in% genes.all$Hum_Symb])\n",
    "peps     <- peps[peps$Gene %in% rownames(dat.ovlp),]"
   ]
  },
  {
   "cell_type": "code",
   "execution_count": 10,
   "metadata": {},
   "outputs": [
    {
     "name": "stderr",
     "output_type": "stream",
     "text": [
      "Warning message in factorial(length(y)):\n",
      "“value out of range in 'gammafn'”"
     ]
    },
    {
     "name": "stdout",
     "output_type": "stream",
     "text": [
      "perm= 1\n",
      "perm= 2\n",
      "perm= 3\n",
      "perm= 4\n",
      "perm= 5\n",
      "perm= 6\n",
      "perm= 7\n",
      "perm= 8\n",
      "perm= 9\n",
      "perm= 10\n",
      "perm= 11\n",
      "perm= 12\n",
      "perm= 13\n",
      "perm= 14\n",
      "perm= 15\n",
      "perm= 16\n",
      "perm= 17\n",
      "perm= 18\n",
      "perm= 19\n",
      "perm= 20\n",
      "perm= 21\n",
      "perm= 22\n",
      "perm= 23\n",
      "perm= 24\n",
      "perm= 25\n",
      "perm= 26\n",
      "perm= 27\n",
      "perm= 28\n",
      "perm= 29\n",
      "perm= 30\n",
      "perm= 31\n",
      "perm= 32\n",
      "perm= 33\n",
      "perm= 34\n",
      "perm= 35\n",
      "perm= 36\n",
      "perm= 37\n",
      "perm= 38\n",
      "perm= 39\n",
      "perm= 40\n",
      "perm= 41\n",
      "perm= 42\n",
      "perm= 43\n",
      "perm= 44\n",
      "perm= 45\n",
      "perm= 46\n",
      "perm= 47\n",
      "perm= 48\n",
      "perm= 49\n",
      "perm= 50\n",
      "perm= 51\n",
      "perm= 52\n",
      "perm= 53\n",
      "perm= 54\n",
      "perm= 55\n",
      "perm= 56\n",
      "perm= 57\n",
      "perm= 58\n",
      "perm= 59\n",
      "perm= 60\n",
      "perm= 61\n",
      "perm= 62\n",
      "perm= 63\n",
      "perm= 64\n",
      "perm= 65\n",
      "perm= 66\n",
      "perm= 67\n",
      "perm= 68\n",
      "perm= 69\n",
      "perm= 70\n",
      "perm= 71\n",
      "perm= 72\n",
      "perm= 73\n",
      "perm= 74\n",
      "perm= 75\n",
      "perm= 76\n",
      "perm= 77\n",
      "perm= 78\n",
      "perm= 79\n",
      "perm= 80\n",
      "perm= 81\n",
      "perm= 82\n",
      "perm= 83\n",
      "perm= 84\n",
      "perm= 85\n",
      "perm= 86\n",
      "perm= 87\n",
      "perm= 88\n",
      "perm= 89\n",
      "perm= 90\n",
      "perm= 91\n",
      "perm= 92\n",
      "perm= 93\n",
      "perm= 94\n",
      "perm= 95\n",
      "perm= 96\n",
      "perm= 97\n",
      "perm= 98\n",
      "perm= 99\n",
      "perm= 100\n",
      "\n",
      "Computing delta table\n",
      "1\n",
      "2\n",
      "3\n",
      "4\n",
      "5\n",
      "6\n",
      "7\n",
      "8\n",
      "9\n",
      "10\n",
      "11\n",
      "12\n",
      "13\n",
      "14\n",
      "15\n",
      "16\n",
      "17\n",
      "18\n",
      "19\n",
      "20\n",
      "21\n",
      "22\n",
      "23\n",
      "24\n",
      "25\n",
      "26\n",
      "27\n",
      "28\n",
      "29\n",
      "30\n",
      "31\n",
      "32\n",
      "33\n",
      "34\n",
      "35\n",
      "36\n",
      "37\n",
      "38\n",
      "39\n",
      "40\n",
      "41\n",
      "42\n",
      "43\n",
      "44\n",
      "45\n",
      "46\n",
      "47\n",
      "48\n",
      "49\n",
      "50\n",
      "[1] \"Using seed: 50831\"\n"
     ]
    }
   ],
   "source": [
    "## Run SAM\n",
    "sam.seed <- sample(seq(1,1e5),1) \n",
    "res <- SAM(dat.ovlp, labs, resp.type='Two class unpaired', genenames=rownames(dat.ovlp), logged2=TRUE, nperm=100, testStatistic='wilcoxon', fdr.output=5e-6, random.seed=sam.seed)\n",
    "print(paste('Using seed:', sam.seed)); flush.console()"
   ]
  },
  {
   "cell_type": "code",
   "execution_count": 11,
   "metadata": {},
   "outputs": [],
   "source": [
    "## Get counts for sig up/down genes in each of the PEP lists\n",
    "sig.genes <- as.data.frame(rbind(res$siggenes.table$genes.up, res$siggenes.table$genes.lo))\n",
    "colnames(sig.genes)[6]       <- 'FoldChange'\n",
    "sig.genes$FoldChange         <- as.numeric(as.character(sig.genes$FoldChange))\n",
    "rownames(sig.genes)          <- sig.genes[,'Gene ID']\n",
    "sig.genes$PEP                <- rownames(sig.genes) %in% peps$Gene\n",
    "sig.genes$Log10FoldChange    <- log10(sig.genes$FoldChange)\n",
    "sig.genes$AbsLog10FoldChange <- abs(sig.genes$Log10FoldChange)\n",
    "\n",
    "peps$AbsLog10FoldChange <- sig.genes[ peps$Gene , 'AbsLog10FoldChange']"
   ]
  },
  {
   "cell_type": "code",
   "execution_count": 12,
   "metadata": {},
   "outputs": [],
   "source": [
    "## Add non-PEP rows from sig.genes to peps, that way we can have genes in 2+ peps\n",
    "ids.nonPEP <- rownames(sig.genes)[!rownames(sig.genes) %in% peps$Gene]\n",
    "tmp  <- data.frame( AbsLog10FoldChange=sig.genes[ids.nonPEP,'AbsLog10FoldChange'], PEP='nonPEP', row.names=ids.nonPEP )\n",
    "tmp  <- data.frame( Gene=ids.nonPEP, PEP='nonPEP', AbsLog10FoldChange=sig.genes[ids.nonPEP,'AbsLog10FoldChange'] )\n",
    "peps <- rbind(peps, tmp)\n",
    "rm(tmp)"
   ]
  },
  {
   "cell_type": "code",
   "execution_count": 13,
   "metadata": {},
   "outputs": [
    {
     "name": "stdout",
     "output_type": "stream",
     "text": [
      "[1] \"Setting color palettes.\"\n"
     ]
    }
   ],
   "source": [
    "#########################################\n",
    "## Color Palette for manuscript\n",
    "#####################################\n",
    "print('Setting color palettes.'); flush.console()\n",
    "\n",
    "cols <- c('#9DC7D8','#7FA1BE','#EBDA8C','#01B3CA','#4F6E35','#965354','#7DD1B9','#808040','#C6CBCE','#1D4E88','#C78C6C','#F69256','#D2B29E','#8B868C','#E38691','#B490B2') # All colors in palette\n",
    "cols.hist <- c('#7DD1B9','#EBDA8C','#965354') # order = healthy, benign, malignant\n",
    "cols.peps <- c('#7FA1BE','#F69256','#E38691') # order = tumor, adenoma, carcinoma"
   ]
  },
  {
   "cell_type": "code",
   "execution_count": 14,
   "metadata": {},
   "outputs": [
    {
     "name": "stderr",
     "output_type": "stream",
     "text": [
      "Warning message:\n",
      "“Removed 47 rows containing non-finite values (stat_boxplot).”"
     ]
    },
    {
     "data": {},
     "metadata": {},
     "output_type": "display_data"
    },
    {
     "name": "stderr",
     "output_type": "stream",
     "text": [
      "Warning message:\n",
      "“Removed 47 rows containing non-finite values (stat_boxplot).”"
     ]
    },
    {
     "data": {
      "image/png": "[encoded data removed]",
      "text/plain": [
       "plot without title"
      ]
     },
     "metadata": {},
     "output_type": "display_data"
    }
   ],
   "source": [
    "#ggplot(na.omit(peps)) +  # Use if you want to show the nonPEP bar (warning: colors will be incorrect!)\n",
    "ggplot(na.omit(peps[peps$PEP!='nonPEP',])) + \n",
    "  geom_boxplot(aes(PEP, AbsLog10FoldChange, fill=PEP) ,outlier.colour = 'white', outlier.alpha=0) + \n",
    "  scale_fill_manual(values=c(cols.peps[c(1,3,2)],'grey')) +\n",
    "  coord_flip() + \n",
    "  ylim(0,1) +\n",
    "  theme_minimal() +\n",
    "  theme(axis.title = element_text(size=20), axis.text  = element_text(vjust=0.5, size=16)) +\n",
    "  geom_hline( aes(yintercept=median(peps[ peps$PEP=='nonPEP', 'AbsLog10FoldChange'])),color='black',linetype='dotdash',lwd=1.5 ) + # Non-PEP genes \n",
    "  guides(fill = \"none\")\n",
    "ggsave(pep.change,width=8,height=6)"
   ]
  },
  {
   "cell_type": "code",
   "execution_count": 15,
   "metadata": {},
   "outputs": [
    {
     "data": {
      "text/html": [
       "0.29392273651378"
      ],
      "text/latex": [
       "0.29392273651378"
      ],
      "text/markdown": [
       "0.29392273651378"
      ],
      "text/plain": [
       "[1] 0.2939227"
      ]
     },
     "metadata": {},
     "output_type": "display_data"
    },
    {
     "name": "stdout",
     "output_type": "stream",
     "text": [
      "[1] \"Wilcoxon text absolute log10 fold change of each PEP\"\n",
      "\n",
      "\tWilcoxon rank sum test with continuity correction\n",
      "\n",
      "data:  AbsLog10FoldChange by PEP == \"Adenoma\"\n",
      "W = 370620, p-value = 8.981e-08\n",
      "alternative hypothesis: true location shift is not equal to 0\n",
      "\n",
      "\n",
      "\tWilcoxon rank sum test with continuity correction\n",
      "\n",
      "data:  AbsLog10FoldChange by PEP == \"Carcinoma\"\n",
      "W = 579240, p-value = 2.596e-13\n",
      "alternative hypothesis: true location shift is not equal to 0\n",
      "\n",
      "\n",
      "\tWilcoxon rank sum test with continuity correction\n",
      "\n",
      "data:  AbsLog10FoldChange by PEP == \"Tumor\"\n",
      "W = 1965700, p-value < 2.2e-16\n",
      "alternative hypothesis: true location shift is not equal to 0\n",
      "\n"
     ]
    }
   ],
   "source": [
    "mean(sig.genes$AbsLog10FoldChange)\n",
    "\n",
    "print('Wilcoxon text absolute log10 fold change of each PEP'); flush.console()\n",
    "print(wilcox.test(AbsLog10FoldChange ~ PEP=='Adenoma', data = peps)); flush.console()\n",
    "print(wilcox.test(AbsLog10FoldChange ~ PEP=='Carcinoma', data = peps)); flush.console()\n",
    "print(wilcox.test(AbsLog10FoldChange ~ PEP=='Tumor', data = peps)); flush.console()\n"
   ]
  },
  {
   "cell_type": "code",
   "execution_count": 16,
   "metadata": {},
   "outputs": [
    {
     "name": "stdout",
     "output_type": "stream",
     "text": [
      "[1] \"Looking for oncogenes and tumor suppressor genes in the PEPs.\"\n"
     ]
    }
   ],
   "source": [
    "### Print out the list of oncogenes/TSGs, PEP membership, SAM score, and fold change\n",
    "## This is stored in Supp Table 5 for now.\n",
    "print('Looking for oncogenes and tumor suppressor genes in the PEPs.'); flush.console()\n",
    "genes.drivers <- read.table(fn.cosmic, sep=',', header=TRUE, stringsAsFactors=FALSE)\n",
    "genes.drivers[genes.drivers$Role.in.Cancer=='','Role.in.Cancer'] <- NA\n",
    "genes.drivers$Role.in.Cancer <- as.factor(genes.drivers$Role.in.Cancer)\n",
    "colnames(genes.drivers)[1]   <- 'Gene'\n"
   ]
  },
  {
   "cell_type": "code",
   "execution_count": 17,
   "metadata": {},
   "outputs": [],
   "source": [
    "peps    <- peps[peps$Gene %in% rownames(sig.genes),] # Only keep differentially expressed genes\n",
    "diff.eq <- join( genes.drivers, peps, by='Gene', type='inner')\n",
    "diff.eq <- diff.eq[complete.cases(diff.eq),]\n"
   ]
  },
  {
   "cell_type": "code",
   "execution_count": 18,
   "metadata": {},
   "outputs": [
    {
     "name": "stdout",
     "output_type": "stream",
     "text": [
      "              \n",
      "               Adenoma Carcinoma Tumor\n",
      "  oncogene           1         2     3\n",
      "  oncogene/TSG       0         1     2\n",
      "  TSG                0         0     6\n"
     ]
    }
   ],
   "source": [
    "## Make the table\n",
    "tbl <- table( diff.eq$Role.in.Cancer, diff.eq$PEP )\n",
    "tbl <- tbl[,which(colnames(tbl)%in%c('Adenoma','Carcinoma','Tumor'))] # Don't show non-PEP groups\n",
    "print(tbl); flush.console()\n"
   ]
  },
  {
   "cell_type": "code",
   "execution_count": 19,
   "metadata": {},
   "outputs": [
    {
     "name": "stdout",
     "output_type": "stream",
     "text": [
      "[1] \"Storing to file\"\n"
     ]
    }
   ],
   "source": [
    "## Store oncogene & tumor suppressor information to file\n",
    "print('Storing to file'); flush.console()\n",
    "write.table(diff.eq[diff.eq$PEP!='nonPEP',], file=pep.roles.csv, col.names=TRUE, row.names=FALSE, quote=FALSE, sep=',')"
   ]
  },
  {
   "cell_type": "code",
   "execution_count": 20,
   "metadata": {},
   "outputs": [
    {
     "data": {
      "text/html": [
       "<strong>png:</strong> 2"
      ],
      "text/latex": [
       "\\textbf{png:} 2"
      ],
      "text/markdown": [
       "**png:** 2"
      ],
      "text/plain": [
       "png \n",
       "  2 "
      ]
     },
     "metadata": {},
     "output_type": "display_data"
    },
    {
     "data": {
      "image/png": "[encoded data removed]",
      "text/plain": [
       "plot without title"
      ]
     },
     "metadata": {},
     "output_type": "display_data"
    }
   ],
   "source": [
    "## Plot & save\n",
    "barplot(tbl, legend=TRUE, ylim=c(0,max(apply(tbl,2,sum))+8), col=cols[c(4,5,7)]) # Add vertical space for legend\n",
    "pdf(pep.roles)\n",
    "barplot(tbl, legend=TRUE, ylim=c(0,max(apply(tbl,2,sum))+8), col=cols[c(4,5,7)]) # Add vertical space for legend\n",
    "dev.off()"
   ]
  },
  {
   "cell_type": "markdown",
   "metadata": {},
   "source": [
    "Unless the default paths have been changed above the\n",
    "image files generated by this notebook may be downloaded using the\n",
    "Jupyter directory browser interface at\n",
    "[`./user_data/output`](./user_data/output)."
   ]
  }
 ],
 "metadata": {
  "kernelspec": {
   "display_name": "R",
   "language": "R",
   "name": "ir"
  },
  "language_info": {
   "codemirror_mode": "r",
   "file_extension": ".r",
   "mimetype": "text/x-r-source",
   "name": "R",
   "pygments_lexer": "r",
   "version": "3.4.2"
  }
 },
 "nbformat": 4,
 "nbformat_minor": 2
}
