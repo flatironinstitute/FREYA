{
 "cells": [
  {
   "cell_type": "markdown",
   "metadata": {},
   "source": [
    "# This Notebook walks through the other notebooks in order\n"
   ]
  },
  {
   "cell_type": "markdown",
   "metadata": {},
   "source": [
    "[Prep the Data](Prep%20Data%20Notebook.ipynb)\n",
    "\n",
    "[Generate PEPs and run histology simulations](PEPs%20and%20Simulations.ipynb)\n",
    "\n",
    "[Gene Ontology enrichment](topGO%20Notebook.ipynb)\n",
    "\n",
    "[PAGE Enrichment]()\n",
    "\n",
    "[Differential Expression](DESeq%20notebook.ipynb)\n",
    "\n",
    "[PAM50 Subtype Analysis](PAM50-notebook.ipynb)\n",
    "\n",
    "[Mutation Analysis](mutation_analysis_notebook.ipynb)\n"
   ]
  },
  {
   "cell_type": "code",
   "execution_count": null,
   "metadata": {},
   "outputs": [],
   "source": []
  }
 ],
 "metadata": {
  "kernelspec": {
   "display_name": "R",
   "language": "R",
   "name": "ir"
  },
  "language_info": {
   "codemirror_mode": "r",
   "file_extension": ".r",
   "mimetype": "text/x-r-source",
   "name": "R",
   "pygments_lexer": "r",
   "version": "3.4.2"
  }
 },
 "nbformat": 4,
 "nbformat_minor": 2
}
