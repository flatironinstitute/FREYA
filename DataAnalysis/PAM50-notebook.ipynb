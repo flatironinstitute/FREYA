{
 "cells": [
  {
   "cell_type": "markdown",
   "metadata": {},
   "source": [
    "## PAM50 processing\n",
    "\n",
    "This is a Jupyter notebook.\n",
    "\n",
    "To run all cells in the notebook use `Cell --> Run All`.\n",
    "\n",
    "To run cells one at a time click into the first code cell and key `Shift-Enter` in each cell in sequence.\n",
    "\n",
    "More information on Jupyter notebooks can be found\n",
    "[here](http://jupyter-notebook.readthedocs.io/en/stable/examples/Notebook/Running%20Code.html)."
   ]
  },
  {
   "cell_type": "code",
   "execution_count": null,
   "metadata": {},
   "outputs": [],
   "source": [
    "## Set the plot window sizes within the notebook (in inches)\n",
    "options(repr.plot.width=6, repr.plot.height=8)"
   ]
  },
  {
   "cell_type": "code",
   "execution_count": null,
   "metadata": {},
   "outputs": [],
   "source": [
    "## User-provided data\n",
    "fn.hist  <- './user_data/UserDogData_Phenotype.csv' # User-provided\n",
    "fn.dd    <- './user_data/UserDogData_RNASeq.tab'    # Dog RNASeq expression data filename\n",
    "fn.sep   <- '\\t'                                    # Delimiter for dog data files\n",
    "\n",
    "## FREYA-provided data\n",
    "data.dir        <- './data/' # Working directory for provided data\n",
    "fn.brca         <- paste0(data.dir,'BRCA_rnaseq_paired_noMets.t.txt')\n",
    "fn.pam50.genes  <- paste0(data.dir,'PAM50_genes.csv') \n",
    "fn.brca.pam50   <- paste0(data.dir,'BRCA_PAM50_labels.csv')\n",
    "\n",
    "## PEP lists created in the expression pipeline. This is also Supp Table 1 in the manuscript\n",
    "#  Users can either use the provided PEP lists or generate their own using the PEP generation script/notebook.\n",
    "fn.peps  <- './data/CMT_peps.csv'  "
   ]
  },
  {
   "cell_type": "code",
   "execution_count": null,
   "metadata": {},
   "outputs": [],
   "source": [
    "## uncomment the following lines to use synthetic (fake) data to test the workflow\n",
    " fn.hist <- './synthetic_data/User_SampleData_Phenotype.csv'\n",
    " fn.dd <- './synthetic_data/User_SampleData_RNAseq.tab'"
   ]
  },
  {
   "cell_type": "code",
   "execution_count": null,
   "metadata": {},
   "outputs": [],
   "source": [
    "## Make sure all of the required files exist - quit if any are missing\n",
    "for( fn in c(fn.hist, fn.dd, fn.peps, fn.pam50.genes, fn.brca, fn.brca.pam50) ) {\n",
    "  if(!file.exists(fn)) { print(paste('ERROR: Unable to locate',fn)) }\n",
    "}"
   ]
  },
  {
   "cell_type": "code",
   "execution_count": null,
   "metadata": {},
   "outputs": [],
   "source": [
    "## Create an output directory for artifacts (if it doesn't already exists)\n",
    "output.dir <- './user_data/output'\n",
    "system(paste('mkdir -p', output.dir))\n",
    "\n",
    "## output filenames\n",
    "output.pam50.barplots               <- paste(output.dir,'PAM50_barplots.pdf', sep='/')\n",
    "PAM50.combined.heatmap.subtypes.bar <- paste(output.dir,'PAM50_combined_heatmap_subtypes_bar.pdf', sep='/')\n",
    "PAM50.combined.species.bar          <- paste(output.dir,'PAM50_combined_species_bar.pdf', sep='/')\n",
    "pam50.file                          <- paste(output.dir,'PAM50_dog.csv', sep='/')"
   ]
  },
  {
   "cell_type": "code",
   "execution_count": null,
   "metadata": {},
   "outputs": [],
   "source": [
    "## Load libraries\n",
    "source(\"https://bioconductor.org/biocLite.R\")\n",
    "biocLite()\n",
    "library(sva)\n",
    "library(glmnet)\n",
    "library(gplots)"
   ]
  },
  {
   "cell_type": "code",
   "execution_count": null,
   "metadata": {},
   "outputs": [],
   "source": [
    "## PAM50 genes list - this never changes\n",
    "genes <- rownames(read.table(fn.pam50.genes, sep=',', row.names=1))"
   ]
  },
  {
   "cell_type": "code",
   "execution_count": null,
   "metadata": {},
   "outputs": [],
   "source": [
    "## Load the PEPs\n",
    "peps <- read.table(fn.peps, sep=',', header=TRUE, stringsAsFactors=FALSE)\n",
    "\n",
    "## Convert to PEP lists\n",
    "peps <- list( Adenoma=peps[peps$Adenoma_Expression_Pattern < 0.05,'HumanSymbol'], \n",
    "             Carcinoma=peps[peps$Carcinoma_Expression_Pattern < 0.05,'HumanSymbol'], \n",
    "             Tumor=peps[peps$Tumor_Expression_Pattern < 0.05,'HumanSymbol'])\n",
    "\n",
    "# Print the number of genes in each PEP \n",
    "print(sapply(peps, length))"
   ]
  },
  {
   "cell_type": "code",
   "execution_count": null,
   "metadata": {},
   "outputs": [],
   "source": [
    "## Load the human data\n",
    "dat <- read.table(fn.brca, sep='\\t', header=T, row.names=1, check.names=F)\n",
    "dat <- dat[,genes] # Subset to PAM50 genes\n",
    "dat <- log(dat+0.01, base=2) # Log scale\n",
    "\n",
    "## Create the Tumor/Normal labels\n",
    "dat.status    <- substr(rownames(dat),14,15) # Tumor/Normal labels\n",
    "\n",
    "## Remove 'A' from the labels, to match other human data labels\n",
    "rownames(dat) <- substr(rownames(dat),1,15) # Remove the 'A' from labels"
   ]
  },
  {
   "cell_type": "code",
   "execution_count": null,
   "metadata": {},
   "outputs": [],
   "source": [
    "# Load the pam50 labels\n",
    "pam50.labs <- read.table(fn.brca.pam50, sep=',', header=TRUE, row.names=1, check.names=FALSE)\n",
    "\n",
    "## Subset expression & labels data to overlapping sets\n",
    "ids        <- intersect( rownames(dat), rownames(pam50.labs) )\n",
    "dat        <- dat[ids,]\n",
    "pam50.labs <- pam50.labs[ids,,drop=FALSE]"
   ]
  },
  {
   "cell_type": "code",
   "execution_count": null,
   "metadata": {},
   "outputs": [],
   "source": [
    "## Remove NA subtypes\n",
    "if( any(is.na(pam50.labs)) ) {\n",
    "  ids.na     <- rownames(pam50.labs)[which(!is.na(pam50.labs))] # Names for non-NA labels\n",
    "  dat        <- dat[ids.na,]\n",
    "  pam50.labs <- pam50.labs[ids.na,,drop=FALSE]\n",
    "}"
   ]
  },
  {
   "cell_type": "code",
   "execution_count": null,
   "metadata": {},
   "outputs": [],
   "source": [
    "## Load the canine data \n",
    "dat.dog <- read.table(fn.dd, header=TRUE, row.names=1, check.names=FALSE, sep=fn.sep)"
   ]
  },
  {
   "cell_type": "code",
   "execution_count": null,
   "metadata": {},
   "outputs": [],
   "source": [
    "## Drop human & dog data matrices to the overlapping genes\n",
    "genes     <- genes[genes %in% colnames(dat.dog)]\n",
    "dat.dog   <- dat.dog[,genes]\n",
    "dat.pam50 <- dat[,genes]"
   ]
  },
  {
   "cell_type": "code",
   "execution_count": null,
   "metadata": {},
   "outputs": [],
   "source": [
    "## Load the phenotype data for the dogs\n",
    "dog.clin <- read.table(fn.hist, sep=',', header=T, row.names=1)"
   ]
  },
  {
   "cell_type": "code",
   "execution_count": null,
   "metadata": {},
   "outputs": [],
   "source": [
    "## Subset dog expression & phenotype data to overlapping samples\n",
    "ids <- intersect( rownames(dog.clin), rownames(dat.dog) )\n",
    "if(  !all(rownames(dog.clin) %in% ids & rownames(dat.dog) %in% ids) ) { \n",
    "  print(\"WARNING: Dog expression and phenotype data have unmatched samples!\");\n",
    "  dat.dog  <- dat.dog[ids,]\n",
    "  dog.clin <- dog.clin[ids,]\n",
    "}"
   ]
  },
  {
   "cell_type": "code",
   "execution_count": null,
   "metadata": {},
   "outputs": [],
   "source": [
    "## Color palettes for the manuscript\n",
    "cols.palette <- c('#9DC7D8','#7FA1BE','#EBDA8C','#01B3CA','#4F6E35','#965354','#7DD1B9','#808040','#C6CBCE','#1D4E88','#C78C6C','#F69256','#D2B29E','#8B868C','#E38691','#B490B2')\n",
    "cols.hist    <- c('#7DD1B9','#EBDA8C','#965354') # order = healthy, benign, malignant\n",
    "cols.peps    <- c('#7FA1BE','#F69256','#E38691') # order = tumor, adenoma, carcinoma\n",
    "cols         <- cols.palette[! (cols.palette %in% c(cols.hist, cols.peps)) ] # Don't resue the pep/histology colors"
   ]
  },
  {
   "cell_type": "code",
   "execution_count": null,
   "metadata": {},
   "outputs": [],
   "source": [
    "## Prepare combined human & dog data to remove batch effects\n",
    "dat.both     <- rbind( dat.dog, dat.pam50 )\n",
    "pheno        <- as.factor(c( rep('Dog', nrow(dat.dog)), rep('Human', nrow(dat.pam50)) ) )\n",
    "names(pheno) <- c(rownames(dat.dog), rownames(dat.pam50))"
   ]
  },
  {
   "cell_type": "code",
   "execution_count": null,
   "metadata": {},
   "outputs": [],
   "source": [
    "## Run ComBat on combined human and dog data\n",
    "combat.edata <- t(ComBat(dat=t(dat.both), batch=pheno))\n",
    "\n",
    "## Mean center the data\n",
    "combat.edata <- sweep(combat.edata, 1, rowMeans(combat.edata))"
   ]
  },
  {
   "cell_type": "code",
   "execution_count": null,
   "metadata": {},
   "outputs": [],
   "source": [
    "#########################################\n",
    "## Train PAM50 model & predict subtypes for dog\n",
    "#####################################\n",
    "\n",
    "## Irain subtype predictor, then predict dog samples\n",
    "res             <- cv.glmnet(combat.edata[rownames(pam50.labs),], pam50.labs[,1], family='multinomial')\n",
    "preds           <- predict(res, combat.edata, type='class')\n",
    "rownames(preds) <- rownames(combat.edata)"
   ]
  },
  {
   "cell_type": "code",
   "execution_count": null,
   "metadata": {},
   "outputs": [],
   "source": [
    "## Write predictions to file (dog only)\n",
    "write.table( preds[rownames(dat.dog),,drop=FALSE], sep=',', col.names=FALSE, row.names=TRUE, quote=FALSE, file=pam50.file)"
   ]
  },
  {
   "cell_type": "code",
   "execution_count": null,
   "metadata": {},
   "outputs": [],
   "source": [
    "## Barplots of the predictions - not used in manuscript\n",
    "barplot(table(preds[rownames(pam50.labs),1], pam50.labs[,1]), legend=TRUE, col=cols) # Human sample predictions\n",
    "barplot( table(preds[rownames(combat.edata) %in% rownames(dog.clin),1], dog.clin$Hist ), legend=TRUE, col=cols ) # Dog sample predictions\n",
    "\n",
    "## Save barplots to file\n",
    "pdf(output.pam50.barplots)\n",
    "barplot(table(preds[rownames(pam50.labs),1], pam50.labs[,1]), legend=TRUE, col=cols) # Human sample predictions\n",
    "barplot( table(preds[rownames(combat.edata) %in% rownames(dog.clin),1], dog.clin$Hist ), legend=TRUE, col=cols ) # Dog sample predictions\n",
    "dev.off()"
   ]
  },
  {
   "cell_type": "code",
   "execution_count": null,
   "metadata": {},
   "outputs": [],
   "source": [
    "#########################################\n",
    "## Combined (human & dog) heatmaps showing PAM50 subtypes\n",
    "#####################################\n",
    "\n",
    "## Identify PAM50 Genes in the PEP lists\n",
    "genes.cols <- rep('grey60', ncol(combat.edata))\n",
    "names(genes.cols) <- colnames(combat.edata)\n",
    "genes.cols[intersect(names(genes.cols), peps$Tumor)]     <- cols.peps[1] # Tumor PEP genes\n",
    "genes.cols[intersect(names(genes.cols), peps$Adenoma)]   <- cols.peps[2] # Adenoma PEP genes\n",
    "genes.cols[intersect(names(genes.cols), peps$Carcinoma)] <- cols.peps[3] # Carcinoma PEP genes"
   ]
  },
  {
   "cell_type": "code",
   "execution_count": null,
   "metadata": {},
   "outputs": [],
   "source": [
    "## Colors for the PAM50 subtypes\n",
    "preds.cols <- matrix(nrow=nrow(preds),ncol=ncol(preds)+1, dimnames=list(rownames(preds)))\n",
    "preds.cols[preds[,1]=='Normal',1] <- cols.palette[4]\n",
    "preds.cols[preds[,1]=='Her2',1]   <- cols.palette[13]\n",
    "preds.cols[preds[,1]=='LumA',1]   <- cols.palette[1]\n",
    "preds.cols[preds[,1]=='LumB',1]   <- cols.palette[10]\n",
    "preds.cols[preds[,1]=='Basal',1]  <- cols.palette[9]\n",
    "\n",
    "## Color bar for the species\n",
    "preds.cols[names(pheno),2]        <- pheno\n",
    "preds.cols[preds.cols[,2]=='1',2] <- cols.palette[10] # Purple\n",
    "preds.cols[preds.cols[,2]=='2',2] <- cols.palette[3] # Dark green"
   ]
  },
  {
   "cell_type": "code",
   "execution_count": null,
   "metadata": {},
   "outputs": [],
   "source": [
    "## Add line breaks for each PAM50 subtype gorup in the heatmaps\n",
    "tbl.preds <- table(preds)\n",
    "rowsep.nums <- c( sum(tbl.preds[1]), sum(tbl.preds[1:2]), sum(tbl.preds[1:3]), sum(tbl.preds[1:4]) )\n",
    "\n",
    "## Heatmap with PAM50 Subtype color bar\n",
    "heatmap.2(combat.edata[names(sort(preds[,1])),], trace='none', col=colorRampPalette(c('blue','blue','grey20','yellow','yellow')), RowSideColors=preds.cols[names(sort(preds[,1])),1], dendrogram='column', ColSideColors=genes.cols, Rowv='none', rowsep=rowsep.nums, sepcolor='grey60')\n",
    "pdf(PAM50.combined.heatmap.subtypes.bar,width=8,height=20) \n",
    "heatmap.2(combat.edata[names(sort(preds[,1])),], trace='none', col=colorRampPalette(c('blue','blue','grey20','yellow','yellow')), RowSideColors=preds.cols[names(sort(preds[,1])),1], dendrogram='column', ColSideColors=genes.cols, Rowv='none', rowsep=rowsep.nums, sepcolor='grey60')\n",
    "dev.off()"
   ]
  },
  {
   "cell_type": "code",
   "execution_count": null,
   "metadata": {},
   "outputs": [],
   "source": [
    "## Heatmap with species color bar\n",
    "heatmap.2(combat.edata[names(sort(preds[,1])),], trace='none', col=colorRampPalette(c('blue','blue','grey20','yellow','yellow')), RowSideColors=preds.cols[names(sort(preds[,1])),2], dendrogram='column', ColSideColors=genes.cols, Rowv='none', rowsep=rowsep.nums, sepcolor='grey60')\n",
    "pdf(PAM50.combined.species.bar,width=8,height=20)\n",
    "heatmap.2(combat.edata[names(sort(preds[,1])),], trace='none', col=colorRampPalette(c('blue','blue','grey20','yellow','yellow')), RowSideColors=preds.cols[names(sort(preds[,1])),2], dendrogram='column', ColSideColors=genes.cols, Rowv='none', rowsep=rowsep.nums, sepcolor='grey60')\n",
    "dev.off()"
   ]
  },
  {
   "cell_type": "markdown",
   "metadata": {},
   "source": [
    "Unless the default paths have been changed above the\n",
    "image files generated by this notebook may be downloaded using the\n",
    "Jupyter directory browser interface at\n",
    "[`./user_data/output`](./user_data/output)."
   ]
  }
 ],
 "metadata": {
  "kernelspec": {
   "display_name": "R",
   "language": "R",
   "name": "ir"
  },
  "language_info": {
   "codemirror_mode": "r",
   "file_extension": ".r",
   "mimetype": "text/x-r-source",
   "name": "R",
   "pygments_lexer": "r",
   "version": "3.4.2"
  }
 },
 "nbformat": 4,
 "nbformat_minor": 2
}
