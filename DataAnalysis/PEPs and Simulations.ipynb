{
 "cells": [
  {
   "cell_type": "markdown",
   "metadata": {},
   "source": [
    "## PEPs and Simulations\n",
    "This is a Jupyter notebook.\n",
    "\n",
    "To run all cells in the notebook use `Cell --> Run All`.\n",
    "\n",
    "To run cells one at a time click into the first code cell and key `Shift-Enter` in each cell in sequence.\n",
    "\n",
    "More information on Jupyter notebooks can be found\n",
    "[here](http://jupyter-notebook.readthedocs.io/en/stable/examples/Notebook/Running%20Code.html)."
   ]
  },
  {
   "cell_type": "code",
   "execution_count": null,
   "metadata": {},
   "outputs": [],
   "source": [
    "## Set the plot window sizes within the notebook (in inches)\n",
    "options(repr.plot.width=6, repr.plot.height=3)"
   ]
  },
  {
   "cell_type": "markdown",
   "metadata": {},
   "source": [
    "## Set up the command line arguments"
   ]
  },
  {
   "cell_type": "code",
   "execution_count": null,
   "metadata": {},
   "outputs": [],
   "source": [
    "## Set up reasonable defaults\n",
    "opt <- list()\n",
    "opt$iterations = 300          # Number of simulation iterations to run\n",
    "opt$datadir = './user_data'   # User-mounted data directory\n",
    "opt$countdir = 'dexseq_count' # Directory containing counts files\n",
    "opt$outdir = './output'       # Directory to store results\n",
    "opt$samplesCanine = 'samples_canine_updated.csv'"
   ]
  },
  {
   "cell_type": "markdown",
   "metadata": {},
   "source": [
    "#### Housekeeping"
   ]
  },
  {
   "cell_type": "code",
   "execution_count": null,
   "metadata": {},
   "outputs": [],
   "source": [
    "## Add working directory to count and phenotype data file names\n",
    "opt$countdir = paste(opt$datadir,opt$countdir,sep='/')\n",
    "opt$samplesCanine = paste(opt$datadir,opt$samplesCanine,sep='/')"
   ]
  },
  {
   "cell_type": "code",
   "execution_count": null,
   "metadata": {},
   "outputs": [],
   "source": [
    "## If the output directory doesn't exist, create it\n",
    "if(!dir.exists(opt$outdir)) {\n",
    "  print(paste('Creating output directory',opt$outdir))\n",
    "  system(paste('mkdir -p',opt$outdir))\n",
    "}\n",
    "\n",
    "## Load libraries\n",
    "library(ggplot2)"
   ]
  },
  {
   "cell_type": "markdown",
   "metadata": {},
   "source": [
    "### Functions for the script\n"
   ]
  },
  {
   "cell_type": "code",
   "execution_count": null,
   "metadata": {},
   "outputs": [],
   "source": [
    "## Given a patient number, return 1 sample ID of each histology type\n",
    "pick.3.samples <- function(pat.num) {\n",
    "  dat.pat <- dat.hist[dat.hist$PatientNumber==pat.num,]\n",
    "  return( list(\n",
    "    N=sample(dat.pat[dat.pat$Hist=='N','Qlabel'],1),\n",
    "    B=sample(dat.pat[dat.pat$Hist=='B','Qlabel'],1),\n",
    "    M=sample(dat.pat[dat.pat$Hist=='M','Qlabel'],1)\n",
    "  ) )\n",
    "}"
   ]
  },
  {
   "cell_type": "code",
   "execution_count": null,
   "metadata": {},
   "outputs": [],
   "source": [
    "## Given a list of patient numbers, return 2 samples for each. \n",
    "##    For half of the patients return 1 N and 1 B histology sample, for the other half return 1 N and 1 M histology sample\n",
    "pick.2.samples <- function(pat.num) {\n",
    "\n",
    "  # Split into 2 groups: ones with N&M histology and ones with N&B histology\n",
    "  # Randomly sort the patient list since we use all patients every time\n",
    "  pat.num <- sample(pat.num, length(pat.num), replace=F)\n",
    "  pat.num.nb <- pat.num[1:(length(pat.num)/2)]\n",
    "  pat.num.nm <- pat.num[(floor(length(pat.num)/2)):length(pat.num)]\n",
    "\n",
    "  dat.pat.NB <- dat.hist[dat.hist$PatientNumber %in% pat.num.nb,]\n",
    "  dat.pat.NM <- dat.hist[dat.hist$PatientNumber %in% pat.num.nm,]\n",
    "\n",
    "  s.nb <- sapply(pat.num.nb, function(x) {\n",
    "    dat.pat.NB <- dat.hist[dat.hist$PatientNumber %in% x,]\n",
    "    list(\n",
    "      sample(dat.pat.NB[dat.pat.NB$Hist=='N','Qlabel'],1),\n",
    "      sample(dat.pat.NB[dat.pat.NB$Hist=='B','Qlabel'],1))\n",
    "    } )\n",
    "  s.nm <- sapply(pat.num.nm, function(x) {\n",
    "    dat.pat.NM <- dat.hist[dat.hist$PatientNumber %in% x,]\n",
    "    list(\n",
    "      sample(dat.pat.NM[dat.pat.NM$Hist=='N','Qlabel'],1),\n",
    "      sample(dat.pat.NM[dat.pat.NM$Hist=='M','Qlabel'],1))\n",
    "    } )\n",
    "  return( unlist(list(unlist(s.nb), unlist(s.nm))) )\n",
    "}"
   ]
  },
  {
   "cell_type": "markdown",
   "metadata": {},
   "source": [
    "### Begin analysis"
   ]
  },
  {
   "cell_type": "code",
   "execution_count": null,
   "metadata": {},
   "outputs": [],
   "source": [
    "## Load the function to generate PEP lists.\n",
    "##   NOTE: This takes some time to load\n",
    "load(paste(opt$datadir,'humanmapping.rda',sep='/')) ## TODO\n",
    "source('run_genPEPs.R') "
   ]
  },
  {
   "cell_type": "code",
   "execution_count": null,
   "metadata": {},
   "outputs": [],
   "source": [
    "## Load phenotype data for the dogs\n",
    "## Make sure the required phenotype columns are in the data, quit if any are missing\n",
    "print('Loading phenotype data...')\n",
    "dat.hist <- read.csv(opt$samplesCanine) #dat.hist <- read.csv('samples_canine_updated.csv')\n",
    "if( all(c('Qlabel','Hist') %in% colnames(dat.hist)) ) {\n",
    "  print(paste('Success,',nrow(dat.hist),'dog samples loaded.'))\n",
    "} else {\n",
    "  print('ERROR: Qlabel and Hist columns required in the phenotype data.')\n",
    "  quit(save='no',status=1) \n",
    "}"
   ]
  },
  {
   "cell_type": "markdown",
   "metadata": {},
   "source": [
    "#### Create the 'true' PEP lists using the full data"
   ]
  },
  {
   "cell_type": "code",
   "execution_count": null,
   "metadata": {},
   "outputs": [],
   "source": [
    "print('Calculating PEPs.')\n",
    "peps.real <- gen_PEPs(dat.hist, opt$countdir)\n",
    "qlim <- 0.05 # Minimum value to be included in a given PEP list\n",
    "peps <- list( Adenoma=peps.real[peps.real$Adenoma_Expression_Pattern < qlim,'HumanSymbol'], Carcinoma=peps.real[peps.real$Carcinoma_Expression_Pattern < qlim,'HumanSymbol'], Tumor=peps.real[peps.real$Tumor_Expression_Pattern < qlim,'HumanSymbol'])\n",
    "print('Full PEP lengths:')\n",
    "print(sapply(peps, length)) # Print num genes in each PEP \n",
    "write.table(peps.real, file=paste(opt$outdir,'CMT_PEPs.csv',sep='/'), sep=',', col.names=TRUE, row.names=FALSE, quote=FALSE)"
   ]
  },
  {
   "cell_type": "markdown",
   "metadata": {},
   "source": [
    "#### Run simulations using subsets of the data -- 2 versions of simulations will be run"
   ]
  },
  {
   "cell_type": "code",
   "execution_count": null,
   "metadata": {},
   "outputs": [],
   "source": [
    "## first approach: a total of 30 samples from 10 patients (each with at least one normal, adenoma, and carcinoma sample) are selected at random.\n",
    "print('Running PEP simulations version 1.')\n",
    "n.iters <- opt$iterations\n",
    "print(paste('Running',n.iters,'iterations for each version.'))\n",
    "peps.cor.3hist <- matrix(NA, nrow=n.iters, ncol=3)\n",
    "colnames(peps.cor.3hist) <- c('Tumor_Expression_Pattern','Carcinoma_Expression_Pattern','Adenoma_Expression_Pattern')\n",
    "\n",
    "for(i in 1:n.iters) {\n",
    "  ## Pick 10 random patients and 10 random samples(1 of each N,B,M from each patient)\n",
    "  ids <- sort(sample(unique(dat.hist$PatientNumber), 10, replace=FALSE))\n",
    "  s.ids <- unlist(sapply(ids, pick.3.samples))\n",
    "\n",
    "  ## Generate the PEPs again\n",
    "  peps.new <- gen_PEPs(dat.hist[dat.hist$Qlabel %in% s.ids,], opt$countdir)\n",
    "\n",
    "  ## Calculate Spearman correlation\n",
    "  ids.genes <- intersect( peps.new$EnsGene, peps.real$EnsGene )\n",
    "  peps.cor.3hist[i,] <- sapply(colnames(peps.cor.3hist), function(x) { cor(peps.new[peps.new$EnsGene %in% ids.genes,x], peps.real[peps.real$EnsGene %in% ids.genes,x], method='spearman', use='complete') } )\n",
    "  cat('.')\n",
    "}\n",
    "print('done!')"
   ]
  },
  {
   "cell_type": "code",
   "execution_count": null,
   "metadata": {},
   "outputs": [],
   "source": [
    "# second approach: simulates cases where only two histologic categories can be gathered from a patient (as is typical in normal versus disease studies).\n",
    "# we used one normal and one adenoma sample from each of 8 randomly selected patients and \n",
    "#   used one normal and one carcinoma from each of the remaining patients, resulting in 32 samples per simulation.\n",
    "print('Running PEP simulations version 2.')\n",
    "peps.cor.2hist <- matrix(NA, nrow=n.iters, ncol=3)\n",
    "colnames(peps.cor.2hist) <- c('Tumor_Expression_Pattern','Carcinoma_Expression_Pattern','Adenoma_Expression_Pattern')\n",
    "for(i in 1:n.iters) {\n",
    "  ## Pick 10 random patients and 10 random samples(1 of each N,B,M from each patient)\n",
    "  ids <- unique(dat.hist$PatientNumber)\n",
    "  s.ids <- pick.2.samples(ids)\n",
    "\n",
    "  ## Generate the PEPs again\n",
    "  peps.new <- gen_PEPs(dat.hist[dat.hist$Qlabel %in% s.ids,], opt$countdir)\n",
    "\n",
    "  ## Calculate Spearman correlation\n",
    "  ids.genes <- intersect( peps.new$EnsGene, peps.real$EnsGene ) \n",
    "  peps.cor.2hist[i,] <- sapply(colnames(peps.cor.2hist), function(x) { cor(peps.new[peps.new$EnsGene %in% ids.genes,x], peps.real[peps.real$EnsGene %in% ids.genes,x], method='spearman', use='complete') } )\n",
    "  cat('.')\n",
    "}\n",
    "print('done!')"
   ]
  },
  {
   "cell_type": "markdown",
   "metadata": {},
   "source": [
    "#### Store the results from simulations"
   ]
  },
  {
   "cell_type": "code",
   "execution_count": null,
   "metadata": {},
   "outputs": [],
   "source": [
    "save(peps.cor.2hist, peps.cor.3hist, file=paste(opt$outdir,'Hist_Sims.RData',sep='/'))\n",
    "\n",
    "peps.cor.2hist <- as.data.frame(peps.cor.2hist)\n",
    "peps.cor.3hist <- as.data.frame(peps.cor.3hist)\n",
    "peps.cor.2hist$Hist <- rep('Hist2', nrow(peps.cor.2hist))\n",
    "peps.cor.3hist$Hist <- rep('Hist3', nrow(peps.cor.3hist))\n",
    "\n",
    "# Wilcoxon rank-sum test of comparable number of samples\n",
    "print(\"Calculating Wilcoxon rank-sum tests on each pep.\")\n",
    "print(paste('Wilcox rank-sum test across all PEPs:', wilcox.test(unlist(peps.cor.2hist[,1:3]), unlist(peps.cor.3hist[,1:3]), na.ignore=T)$p.value) );flush.console()"
   ]
  },
  {
   "cell_type": "markdown",
   "metadata": {},
   "source": [
    "## Generate plots with results"
   ]
  },
  {
   "cell_type": "code",
   "execution_count": null,
   "metadata": {},
   "outputs": [],
   "source": [
    "## Color Palette for manuscript\n",
    "print('Setting color palettes.')\n",
    "cols.palette <- c('#9DC7D8','#7FA1BE','#EBDA8C','#01B3CA','#4F6E35','#965354','#7DD1B9','#808040','#C6CBCE','#1D4E88','#C78C6C','#F69256','#D2B29E','#8B868C','#E38691','#B490B2')\n",
    "cols.hist    <- c('#7DD1B9','#EBDA8C','#965354') # order = healthy, benign, malignant\n",
    "cols.peps    <- c('#7FA1BE','#F69256','#E38691') # order = tumor, adenoma, carcinoma\n",
    "cols         <- cols.palette[! (cols.palette %in% c(cols.hist, cols.peps)) ] # Don't resue the pep/histology colors"
   ]
  },
  {
   "cell_type": "code",
   "execution_count": null,
   "metadata": {},
   "outputs": [],
   "source": [
    "print('Generating simulations correlation plot.')\n",
    "tmp <- melt( rbind(peps.cor.2hist, peps.cor.3hist) )\n",
    "ggplot(tmp) + geom_boxplot((aes(x=variable,y=value,fill=Hist))) + coord_flip() + scale_fill_manual(values=sample(cols,2)) + ylab('Spearman Correlation to true PEPs') + xlab('') + theme_bw(base_size = 18) \n",
    "ggsave(paste(opt$outdir,'PEP_hist_simulations.pdf',sep='/'), width=8,height=4) \n",
    "\n",
    "print('Finished! Success!')"
   ]
  },
  {
   "cell_type": "code",
   "execution_count": null,
   "metadata": {},
   "outputs": [],
   "source": []
  }
 ],
 "metadata": {
  "kernelspec": {
   "display_name": "R",
   "language": "R",
   "name": "ir"
  },
  "language_info": {
   "codemirror_mode": "r",
   "file_extension": ".r",
   "mimetype": "text/x-r-source",
   "name": "R",
   "pygments_lexer": "r",
   "version": "3.4.2"
  }
 },
 "nbformat": 4,
 "nbformat_minor": 2
}
