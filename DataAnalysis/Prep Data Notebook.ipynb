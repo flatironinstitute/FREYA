{
 "cells": [
  {
   "cell_type": "markdown",
   "metadata": {},
   "source": [
    "## Prep Data for analysis\n",
    "\n",
    "This is a Jupyter notebook.\n",
    "\n",
    "To run all cells in the notebook use `Cell --> Run All`.\n",
    "\n",
    "To run cells one at a time click into the first code cell and key `Shift-Enter` in each cell in sequence.\n",
    "\n",
    "More information on Jupyter notebooks can be found\n",
    "[here](http://jupyter-notebook.readthedocs.io/en/stable/examples/Notebook/Running%20Code.html)."
   ]
  },
  {
   "cell_type": "code",
   "execution_count": null,
   "metadata": {},
   "outputs": [],
   "source": [
    "## Set the plot window sizes within the notebook (in inches)\n",
    "options(repr.plot.width=6, repr.plot.height=8)"
   ]
  },
  {
   "cell_type": "markdown",
   "metadata": {},
   "source": [
    "#   Script parameters setup, setting reasonable defaults"
   ]
  },
  {
   "cell_type": "code",
   "execution_count": null,
   "metadata": {},
   "outputs": [],
   "source": [
    "opt <- list()\n",
    "opt$outdir    <- './user_data/output'\n",
    "opt$map.human <- FALSE # Set to TRUE if you want to regenerate the human mapping file.\n",
    "opt$datadir   <- './user_data' # Directory containing the input data"
   ]
  },
  {
   "cell_type": "code",
   "execution_count": null,
   "metadata": {},
   "outputs": [],
   "source": [
    "## Load libraries\n",
    "library(knitr)\n",
    "library(plyr)\n",
    "library(dplyr)\n",
    "library(broom)\n",
    "library(biobroom)\n",
    "library(tidyr)\n",
    "library(qvalue)\n",
    "library(edgeR)\n",
    "library(biomaRt,pos = \"package:base\")\n",
    "library(reshape2)\n",
    "\n",
    "library(devtools)\n",
    "knitr::opts_chunk$set(warning = FALSE,\n",
    "                      message = FALSE,\n",
    "                      prompt = FALSE)"
   ]
  },
  {
   "cell_type": "markdown",
   "metadata": {},
   "source": [
    "### Load the data"
   ]
  },
  {
   "cell_type": "code",
   "execution_count": null,
   "metadata": {},
   "outputs": [],
   "source": [
    "## Load the phenotype data \n",
    "print('Loading phenotype data')\n",
    "samplesCanine <- read.csv(paste(opt$datadir,'samples_canine_updated.csv',sep='/'))\n",
    "\n",
    "## Read in Count Data\n",
    "print('Loading count data')\n",
    "counts <- readDGE(samplesCanine$File, paste(opt$datadir,\"dexseq_count/\",sep='/'), header = FALSE)\n",
    "minCount <- round((nrow(samplesCanine)/length(levels(samplesCanine$Hist))), 0)\n",
    "cpms <- cpm(counts)\n",
    "noint <- rownames(counts) %in% c(\"_ambiguous_readpair_position\",\"_ambiguous\",\"_empty\",\"_lowaqual\",\"_notaligned\")\n",
    "counts_filtered <- counts[rowSums(cpms > 1) >= minCount & !noint,]\n",
    "samplesCanine$Hist <- relevel(samplesCanine$Hist,\"N\")\n",
    "samplesCanine <- samplesCanine %>% mutate(Patient = factor(PatientNumber))"
   ]
  },
  {
   "cell_type": "markdown",
   "metadata": {},
   "source": [
    "### Prepare Data & Identify Differentially Expressed Genes"
   ]
  },
  {
   "cell_type": "code",
   "execution_count": null,
   "metadata": {},
   "outputs": [],
   "source": [
    "## Estimate Dispersion\n",
    "print('Estimating dispersion')\n",
    "design <- model.matrix( ~Patient+Hist, samplesCanine)\n",
    "d <- DGEList(counts = counts_filtered, group = samplesCanine$Hist)\n",
    "d <- calcNormFactors(d)\n",
    "d <- estimateGLMTrendedDisp(d, design)\n",
    "d <- estimateGLMTagwiseDisp(d, design)"
   ]
  },
  {
   "cell_type": "code",
   "execution_count": null,
   "metadata": {},
   "outputs": [],
   "source": [
    "## Perform DE Analysis\n",
    "print('Performing differential expresion analysis')\n",
    "d_fit <- glmFit(d,design)\n",
    "lrt_list <- list(\n",
    "    b_n = glmLRT(d_fit,coef = \"HistB\"),\n",
    "    m_n = glmLRT(d_fit,coef = \"HistM\"),\n",
    "    m_b = glmLRT(d_fit,contrast = makeContrasts(HistM-HistB, levels = d_fit$design)),\n",
    "    n_b_m = glmLRT(d_fit,coef = c(\"HistM\", \"HistB\"))\n",
    "    )\n",
    "tidy.DGELRT <- function(x, ...) {\n",
    "  ret <- fix_data_frame(x$table, newcol = \"gene\")\n",
    "}\n",
    "LRTtidied <- ldply(lrt_list, tidy,.id = \"contrast\") %>%\n",
    "  group_by(contrast) %>%\n",
    "  mutate(qval = qvalue(PValue)$qvalues)"
   ]
  },
  {
   "cell_type": "markdown",
   "metadata": {},
   "source": [
    "### Load mappings to human (if option is set)"
   ]
  },
  {
   "cell_type": "code",
   "execution_count": null,
   "metadata": {},
   "outputs": [],
   "source": [
    "## NOTE: Sometimes the bioMart datasets won't load. Just wait a bit and try again, they usually come back up quickly\n",
    "if(!opt$map.human) {\n",
    "  print('Using previously generated human mapping file')\n",
    "  load(paste(opt$datadir,\"humanmapping.rda\",sep='/'))\n",
    "} else {\n",
    "  print('Generating new human mapping file')\n",
    "  allgenes <- LRTtidied %>% ungroup %>% select(gene) %>% distinct %>% .$gene\n",
    "\n",
    "  Map_CanEns2Info <-  getBM(attributes = c('ensembl_gene_id','external_gene_name','description'),\n",
    "                          filters = list(ensembl_gene_id = allgenes),\n",
    "                          mart = useMart(\"ensembl\",dataset = \"cfamiliaris_gene_ensembl\"))\n",
    "\n",
    "  Map_CanEns2HumEns <- getBM(attributes = c('ensembl_gene_id','hsapiens_homolog_ensembl_gene'),\n",
    "                           filters = list(ensembl_gene_id = allgenes, with_hsapiens_homolog = TRUE),\n",
    "                           mart = useMart(\"ensembl\",dataset = \"cfamiliaris_gene_ensembl\"))\n",
    "\n",
    "  Map_HumEns2Entrez <- getBM(attributes = c('ensembl_gene_id','entrezgene'),\n",
    "                           filters = 'ensembl_gene_id',\n",
    "                           values = Map_CanEns2HumEns$hsapiens_homolog_ensembl_gene,\n",
    "                           mart = useMart(\"ensembl\",dataset = \"hsapiens_gene_ensembl\"))\n",
    "\n",
    "  Map_HumEns2Symb <- getBM(attributes = c('ensembl_gene_id','external_gene_name'),\n",
    "                         filters = 'ensembl_gene_id',\n",
    "                         values = Map_CanEns2HumEns$hsapiens_homolog_ensembl_gene,\n",
    "                         mart = useMart(\"ensembl\",dataset = \"hsapiens_gene_ensembl\"))\n",
    "\n",
    "  Map_CanEns2HumEnt <- inner_join(Map_CanEns2HumEns,\n",
    "                                Map_HumEns2Entrez,\n",
    "                                by = c(\"hsapiens_homolog_ensembl_gene\" = \"ensembl_gene_id\"))\n",
    "\n",
    "  Map_CanEns2HumEnt_unique <- Map_CanEns2HumEnt %>%\n",
    "    select(Can_Ens = ensembl_gene_id, Hum_Ent = entrezgene) %>% distinct %>%\n",
    "    group_by(Can_Ens) %>%\n",
    "    filter(length(Can_Ens) == 1) %>%\n",
    "    group_by(Hum_Ent) %>%\n",
    "    filter(length(Hum_Ent) == 1) %>%\n",
    "    ungroup %>% mutate(Hum_Ent = as.character(Hum_Ent))\n",
    "\n",
    "  Map_CanEns2HumSymb <- inner_join(Map_CanEns2HumEns,\n",
    "                                 Map_HumEns2Symb,\n",
    "                                 by = c(\"hsapiens_homolog_ensembl_gene\" = \"ensembl_gene_id\"))\n",
    "\n",
    "  Map_CanEns2HumSymb_unique <- Map_CanEns2HumSymb %>%\n",
    "    select(Can_Ens = ensembl_gene_id,Hum_Symb = external_gene_name) %>% distinct %>%\n",
    "    group_by(Can_Ens) %>%\n",
    "    filter(length(Can_Ens) == 1) %>%\n",
    "    group_by(Hum_Symb) %>%\n",
    "    filter(length(Hum_Symb) == 1)\n",
    "\n",
    "  save(Map_CanEns2HumEns,\n",
    "       Map_CanEns2Info,\n",
    "       Map_CanEns2HumEnt,\n",
    "       Map_CanEns2HumEnt_unique,\n",
    "       Map_CanEns2HumSymb,\n",
    "       Map_CanEns2HumSymb_unique,file=paste(opt$datadir,\"humanmapping.rda\",sep='/'))\n",
    "\n",
    "       #Map_CanEns2HumSymb_unique,file=\"humanmapping.rda\")\n",
    "\n",
    "} # End human mapping"
   ]
  },
  {
   "cell_type": "markdown",
   "metadata": {},
   "source": [
    "### Generate the profile metrics (later used to generate PEPs)"
   ]
  },
  {
   "cell_type": "code",
   "execution_count": null,
   "metadata": {},
   "outputs": [],
   "source": [
    "print('Generating profile metrics')\n",
    "profileMetrics <- LRTtidied %>%\n",
    "    filter(contrast!=\"n_b_m\") %>%\n",
    " select(contrast, gene, logFC, PValue, qval) %>%\n",
    "   gather(type, value, -contrast, -gene) %>%\n",
    "   unite(contrast_type, contrast, type, sep=\".\") %>%\n",
    "   spread(contrast_type, value) %>%\n",
    "inner_join(Map_CanEns2HumSymb_unique,by=c(\"gene\"=\"Can_Ens\"))"
   ]
  },
  {
   "cell_type": "code",
   "execution_count": null,
   "metadata": {},
   "outputs": [],
   "source": [
    "getCPMWithoutPatient <- function(DGEFit) {\n",
    "  cpm = cpm(DGEFit$counts,normalized.lib.sizes = TRUE, log = FALSE)\n",
    "  cpm = cpm + .25 #Add prior\n",
    "  logcpm = log(cpm)\n",
    "  patient.cols = grep(\"Patient\", colnames(DGEFit$coefficients))\n",
    "  due.to.patient = DGEFit$coefficients[, patient.cols] %*% t(DGEFit$design[, patient.cols])\n",
    "  without.patient = logcpm - due.to.patient\n",
    "  without.patient = log(exp(without.patient), base = 2) #To make comparable to cpm()\n",
    "  return(without.patient)\n",
    "}"
   ]
  },
  {
   "cell_type": "markdown",
   "metadata": {},
   "source": [
    "### Generate and save the canine expression data matrices"
   ]
  },
  {
   "cell_type": "code",
   "execution_count": null,
   "metadata": {},
   "outputs": [],
   "source": [
    "print('Generating canine data matrices')\n",
    "CPMmatrices <- list(\n",
    "  raw = cpm(d_fit$counts, normalized.lib.sizes = FALSE, log = FALSE),\n",
    "  norm = cpm(d_fit$counts, normalized.lib.sizes = TRUE, log = FALSE),\n",
    "  znorm = t(scale(t(cpm(d_fit$counts, normalized.lib.sizes = TRUE, log = FALSE)),center = TRUE, scale = TRUE)),\n",
    "  patregressed = getCPMWithoutPatient(d_fit),\n",
    "  zpatregressed = t(scale(t(getCPMWithoutPatient(d_fit)),center = TRUE,scale = TRUE))\n",
    "  )"
   ]
  },
  {
   "cell_type": "code",
   "execution_count": null,
   "metadata": {},
   "outputs": [],
   "source": [
    "## Save updated files\n",
    "print('Saving rda files')\n",
    "save(CPMmatrices, file=paste(opt$outdir,'CPMmatrices.rda',sep='/'))\n",
    "save(LRTtidied, file=paste(opt$outdir,'LRTtidied.rda',sep='/'))\n",
    "save(profileMetrics, file=paste(opt$outdir,'profileMetrics.rda',sep='/'))"
   ]
  },
  {
   "cell_type": "code",
   "execution_count": null,
   "metadata": {},
   "outputs": [],
   "source": [
    "## Save the dog matrices\n",
    "print('Saving delimited files')\n",
    "dat.dog <- CPMmatrices$zpatregressed\n",
    "names.dog <- intersect( Map_CanEns2HumSymb_unique$Can_Ens, rownames(dat.dog) ) # Only care about genes that map to human\n",
    "Map_CanEns2HumSymb_unique <- Map_CanEns2HumSymb_unique[ Map_CanEns2HumSymb_unique$Can_Ens %in% names.dog, ]\n",
    "rownames( Map_CanEns2HumSymb_unique ) <- Map_CanEns2HumSymb_unique$Can_Ens\n",
    "\n",
    "## Map to human, make dog ID's more dog-obvious\n",
    "dat.dog <- dat.dog[names.dog,]\n",
    "rownames(dat.dog) <- Map_CanEns2HumSymb_unique$Hum_Symb\n",
    "\n",
    "## Save to file\n",
    "write.table(t(dat.dog), file=paste(opt$outdir,'Canine_RNASeq.tab',sep='/'), sep='\\t', col.names=TRUE, row.names=TRUE, quote=FALSE)\n",
    "write.table(t(dat.dog), file=paste(opt$outdir,'Canine_RNASeq.csv',sep='/'), sep=',', col.names=TRUE, row.names=TRUE, quote=FALSE)\n",
    "\n",
    "## Save the canine samples data\n",
    "dog.labs <- data.frame( samplesCanine$Qlabel, samplesCanine$Hist )\n",
    "colnames(dog.labs) <- c('ID','Hist')\n",
    "write.table(dog.labs, file=paste(opt$outdir,'Canine_Labels.tab',sep='/'), sep='\\t', col.names=TRUE, row.names=FALSE, quote=FALSE)\n",
    "\n",
    "## Now grab malignant vs normal - remove benign samples (for tumor-normal analyses)\n",
    "x <- t(dat.dog[ ,as.character(dog.labs[ dog.labs$Hist !='B', 'ID' ]),drop=FALSE])\n",
    "write.table(x, file=paste(opt$outdir,'Canine_RNASeq_TumorVSNormal.t.tab',sep='/'), sep='\\t', col.names=TRUE, row.names=TRUE, quote=FALSE)\n",
    "\n",
    "print('Finished. Success!')"
   ]
  }
 ],
 "metadata": {
  "kernelspec": {
   "display_name": "R",
   "language": "R",
   "name": "ir"
  },
  "language_info": {
   "codemirror_mode": "r",
   "file_extension": ".r",
   "mimetype": "text/x-r-source",
   "name": "R",
   "pygments_lexer": "r",
   "version": "3.4.2"
  }
 },
 "nbformat": 4,
 "nbformat_minor": 2
}
