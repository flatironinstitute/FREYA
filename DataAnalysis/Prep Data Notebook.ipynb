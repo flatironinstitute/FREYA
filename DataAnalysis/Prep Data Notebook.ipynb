{
 "cells": [
  {
   "cell_type": "markdown",
   "metadata": {},
   "source": [
    "## Prep Data for analysis\n",
    "\n",
    "This is a Jupyter notebook.\n",
    "\n",
    "To run all cells in the notebook use `Cell --> Run All`.\n",
    "\n",
    "To run cells one at a time click into the first code cell and key `Shift-Enter` in each cell in sequence.\n",
    "\n",
    "More information on Jupyter notebooks can be found\n",
    "[here](http://jupyter-notebook.readthedocs.io/en/stable/examples/Notebook/Running%20Code.html)."
   ]
  },
  {
   "cell_type": "code",
   "execution_count": 1,
   "metadata": {},
   "outputs": [],
   "source": [
    "## Set the plot window sizes within the notebook (in inches)\n",
    "options(repr.plot.width=6, repr.plot.height=8)"
   ]
  },
  {
   "cell_type": "markdown",
   "metadata": {},
   "source": [
    "#   Script parameters setup, setting reasonable defaults"
   ]
  },
  {
   "cell_type": "code",
   "execution_count": 2,
   "metadata": {},
   "outputs": [],
   "source": [
    "opt <- list()\n",
    "opt$outdir    <- './user_data/output'\n",
    "opt$map.human <- FALSE # Set to TRUE if you want to regenerate the human mapping file.\n",
    "opt$datadir   <- './user_data' # Directory containing the input data"
   ]
  },
  {
   "cell_type": "code",
   "execution_count": 3,
   "metadata": {},
   "outputs": [
    {
     "name": "stderr",
     "output_type": "stream",
     "text": [
      "\n",
      "Attaching package: ‘dplyr’\n",
      "\n",
      "The following objects are masked from ‘package:plyr’:\n",
      "\n",
      "    arrange, count, desc, failwith, id, mutate, rename, summarise,\n",
      "    summarize\n",
      "\n",
      "The following objects are masked from ‘package:stats’:\n",
      "\n",
      "    filter, lag\n",
      "\n",
      "The following objects are masked from ‘package:base’:\n",
      "\n",
      "    intersect, setdiff, setequal, union\n",
      "\n",
      "Loading required package: limma\n",
      "\n",
      "Attaching package: ‘reshape2’\n",
      "\n",
      "The following object is masked from ‘package:tidyr’:\n",
      "\n",
      "    smiths\n",
      "\n"
     ]
    }
   ],
   "source": [
    "## Load libraries\n",
    "library(knitr)\n",
    "library(plyr)\n",
    "library(dplyr)\n",
    "library(broom)\n",
    "library(biobroom)\n",
    "library(tidyr)\n",
    "library(qvalue)\n",
    "library(edgeR)\n",
    "library(biomaRt,pos = \"package:base\")\n",
    "library(reshape2)\n",
    "\n",
    "library(devtools)\n",
    "knitr::opts_chunk$set(warning = FALSE,\n",
    "                      message = FALSE,\n",
    "                      prompt = FALSE)"
   ]
  },
  {
   "cell_type": "markdown",
   "metadata": {},
   "source": [
    "### Load the data"
   ]
  },
  {
   "cell_type": "code",
   "execution_count": 4,
   "metadata": {},
   "outputs": [
    {
     "name": "stdout",
     "output_type": "stream",
     "text": [
      "[1] \"Loading phenotype data\"\n"
     ]
    }
   ],
   "source": [
    "## Load the phenotype data \n",
    "print('Loading phenotype data')\n",
    "samplesCanine <- read.csv(paste(opt$datadir,'samples_canine_updated.csv',sep='/'))"
   ]
  },
  {
   "cell_type": "code",
   "execution_count": 5,
   "metadata": {},
   "outputs": [
    {
     "name": "stdout",
     "output_type": "stream",
     "text": [
      "[1] \"Creating the count files\"\n",
      "[1] \"Processing sample ./user_data/dexseq_count/10A.txt\"\n",
      "[1] \"Processing sample ./user_data/dexseq_count/10B.txt\"\n",
      "[1] \"Processing sample ./user_data/dexseq_count/10C.txt\"\n",
      "[1] \"Processing sample ./user_data/dexseq_count/10D.txt\"\n",
      "[1] \"Processing sample ./user_data/dexseq_count/10F.txt\"\n",
      "[1] \"Processing sample ./user_data/dexseq_count/11A.txt\"\n",
      "[1] \"Processing sample ./user_data/dexseq_count/11B.txt\"\n",
      "[1] \"Processing sample ./user_data/dexseq_count/11C.txt\"\n",
      "[1] \"Processing sample ./user_data/dexseq_count/11E.txt\"\n",
      "[1] \"Processing sample ./user_data/dexseq_count/11F.txt\"\n",
      "[1] \"Processing sample ./user_data/dexseq_count/11G.txt\"\n",
      "[1] \"Processing sample ./user_data/dexseq_count/11H.txt\"\n",
      "[1] \"Processing sample ./user_data/dexseq_count/11I.txt\"\n",
      "[1] \"Processing sample ./user_data/dexseq_count/11J.txt\"\n",
      "[1] \"Processing sample ./user_data/dexseq_count/12A.txt\"\n",
      "[1] \"Processing sample ./user_data/dexseq_count/12B.txt\"\n",
      "[1] \"Processing sample ./user_data/dexseq_count/12C.txt\"\n",
      "[1] \"Processing sample ./user_data/dexseq_count/12D.txt\"\n",
      "[1] \"Processing sample ./user_data/dexseq_count/13A.txt\"\n",
      "[1] \"Processing sample ./user_data/dexseq_count/13B.txt\"\n",
      "[1] \"Processing sample ./user_data/dexseq_count/13C.txt\"\n",
      "[1] \"Processing sample ./user_data/dexseq_count/13D.txt\"\n",
      "[1] \"Processing sample ./user_data/dexseq_count/13E.txt\"\n",
      "[1] \"Processing sample ./user_data/dexseq_count/13F.txt\"\n",
      "[1] \"Processing sample ./user_data/dexseq_count/13G.txt\"\n",
      "[1] \"Processing sample ./user_data/dexseq_count/14A.txt\"\n",
      "[1] \"Processing sample ./user_data/dexseq_count/14B.txt\"\n",
      "[1] \"Processing sample ./user_data/dexseq_count/14C.txt\"\n",
      "[1] \"Processing sample ./user_data/dexseq_count/14D.txt\"\n",
      "[1] \"Processing sample ./user_data/dexseq_count/14E.txt\"\n",
      "[1] \"Processing sample ./user_data/dexseq_count/14F.txt\"\n",
      "[1] \"Processing sample ./user_data/dexseq_count/14G.txt\"\n",
      "[1] \"Processing sample ./user_data/dexseq_count/15A.txt\"\n",
      "[1] \"Processing sample ./user_data/dexseq_count/15B.txt\"\n",
      "[1] \"Processing sample ./user_data/dexseq_count/15C.txt\"\n",
      "[1] \"Processing sample ./user_data/dexseq_count/16A.txt\"\n",
      "[1] \"Processing sample ./user_data/dexseq_count/16B.txt\"\n",
      "[1] \"Processing sample ./user_data/dexseq_count/16C.txt\"\n",
      "[1] \"Processing sample ./user_data/dexseq_count/16D.txt\"\n",
      "[1] \"Processing sample ./user_data/dexseq_count/16E.txt\"\n",
      "[1] \"Processing sample ./user_data/dexseq_count/16F.txt\"\n",
      "[1] \"Processing sample ./user_data/dexseq_count/17A.txt\"\n",
      "[1] \"Processing sample ./user_data/dexseq_count/17B.txt\"\n",
      "[1] \"Processing sample ./user_data/dexseq_count/17C.txt\"\n",
      "[1] \"Processing sample ./user_data/dexseq_count/17D.txt\"\n",
      "[1] \"Processing sample ./user_data/dexseq_count/18A.txt\"\n",
      "[1] \"Processing sample ./user_data/dexseq_count/18B.txt\"\n",
      "[1] \"Processing sample ./user_data/dexseq_count/18C.txt\"\n",
      "[1] \"Processing sample ./user_data/dexseq_count/18D.txt\"\n",
      "[1] \"Processing sample ./user_data/dexseq_count/18E.txt\"\n",
      "[1] \"Processing sample ./user_data/dexseq_count/18F.txt\"\n",
      "[1] \"Processing sample ./user_data/dexseq_count/18G.txt\"\n",
      "[1] \"Processing sample ./user_data/dexseq_count/1A.txt\"\n",
      "[1] \"Processing sample ./user_data/dexseq_count/1C.txt\"\n",
      "[1] \"Processing sample ./user_data/dexseq_count/1E.txt\"\n",
      "[1] \"Processing sample ./user_data/dexseq_count/1F.txt\"\n",
      "[1] \"Processing sample ./user_data/dexseq_count/2A.txt\"\n",
      "[1] \"Processing sample ./user_data/dexseq_count/2B.txt\"\n",
      "[1] \"Processing sample ./user_data/dexseq_count/2C.txt\"\n",
      "[1] \"Processing sample ./user_data/dexseq_count/2D.txt\"\n",
      "[1] \"Processing sample ./user_data/dexseq_count/2E.txt\"\n",
      "[1] \"Processing sample ./user_data/dexseq_count/2F.txt\"\n",
      "[1] \"Processing sample ./user_data/dexseq_count/3A.txt\"\n",
      "[1] \"Processing sample ./user_data/dexseq_count/3B.txt\"\n",
      "[1] \"Processing sample ./user_data/dexseq_count/3C.txt\"\n",
      "[1] \"Processing sample ./user_data/dexseq_count/3D.txt\"\n",
      "[1] \"Processing sample ./user_data/dexseq_count/4A.txt\"\n",
      "[1] \"Processing sample ./user_data/dexseq_count/4B.txt\"\n",
      "[1] \"Processing sample ./user_data/dexseq_count/4C.txt\"\n",
      "[1] \"Processing sample ./user_data/dexseq_count/4D.txt\"\n",
      "[1] \"Processing sample ./user_data/dexseq_count/4E.txt\"\n",
      "[1] \"Processing sample ./user_data/dexseq_count/4F.txt\"\n",
      "[1] \"Processing sample ./user_data/dexseq_count/6A.txt\"\n",
      "[1] \"Processing sample ./user_data/dexseq_count/6B.txt\"\n",
      "[1] \"Processing sample ./user_data/dexseq_count/6C.txt\"\n",
      "[1] \"Processing sample ./user_data/dexseq_count/6D.txt\"\n",
      "[1] \"Processing sample ./user_data/dexseq_count/6E.txt\"\n",
      "[1] \"Processing sample ./user_data/dexseq_count/8A.txt\"\n",
      "[1] \"Processing sample ./user_data/dexseq_count/8B.txt\"\n",
      "[1] \"Processing sample ./user_data/dexseq_count/8C.txt\"\n",
      "[1] \"Processing sample ./user_data/dexseq_count/8D.txt\"\n",
      "[1] \"Processing sample ./user_data/dexseq_count/8E.txt\"\n",
      "[1] \"Processing sample ./user_data/dexseq_count/9A.txt\"\n",
      "[1] \"Processing sample ./user_data/dexseq_count/9B.txt\"\n",
      "[1] \"Processing sample ./user_data/dexseq_count/9C.txt\"\n",
      "[1] \"Processing sample ./user_data/dexseq_count/9D.txt\"\n",
      "[1] \"Processing sample ./user_data/dexseq_count/9E.txt\"\n",
      "[1] \"Processing sample ./user_data/dexseq_count/9F.txt\"\n",
      "[1] \"Processing sample ./user_data/dexseq_count/9G.txt\"\n"
     ]
    }
   ],
   "source": [
    "## Create the count files convert to gene level counts\n",
    "print('Creating the count files'); flush.console()\n",
    "fn.txt <- list.files(path=paste(opt$datadir,\"dexseq_count/\",sep='/'), pattern=\"*.txt\", full.names=FALSE, recursive=FALSE)\n",
    "fn.txt <- paste(opt$datadir, 'dexseq_count', fn.txt, sep='/')\n",
    "for(fn in fn.txt) {\n",
    "  print( paste('Processing sample', fn) ); flush.console()\n",
    "  dat.fn <- read.table(fn, sep='\\t', header=FALSE, stringsAsFactors=FALSE)\n",
    "  ids.genes <- sapply(dat.fn$V1, function(x) {unlist(strsplit(x,':'))[1] } )\n",
    "\n",
    "  dat    <- aggregate(dat.fn[,2,drop=FALSE], by=list(ids.genes), FUN=sum)\n",
    "  rownames(dat) <- dat$Group.1\n",
    "  dat <- dat[,-1,drop=FALSE]\n",
    "  dat <- dat[unique(ids.genes),,drop=FALSE]\n",
    "\n",
    "  write.table( dat, file=paste(opt$datadir,'dexseq_count',paste(tools::file_path_sans_ext(basename(fn)), 'count',sep='.'),sep='/'), sep ='\\t', quote=FALSE, col.names=FALSE, row.names=TRUE ) # TODO\n",
    "}"
   ]
  },
  {
   "cell_type": "code",
   "execution_count": 6,
   "metadata": {},
   "outputs": [
    {
     "name": "stdout",
     "output_type": "stream",
     "text": [
      "[1] \"Loading count data\"\n"
     ]
    },
    {
     "name": "stderr",
     "output_type": "stream",
     "text": [
      "Meta tags detected: _ambiguous, _ambiguous_readpair_position, _empty, _lowaqual, _notaligned\n"
     ]
    }
   ],
   "source": [
    "## Read in Count Data\n",
    "print('Loading count data')\n",
    "counts <- readDGE(samplesCanine$File, paste(opt$datadir,\"dexseq_count/\",sep='/'), header = FALSE)\n",
    "minCount <- round((nrow(samplesCanine)/length(levels(samplesCanine$Hist))), 0)\n",
    "cpms <- cpm(counts)\n",
    "noint <- rownames(counts) %in% c(\"_ambiguous_readpair_position\",\"_ambiguous\",\"_empty\",\"_lowaqual\",\"_notaligned\")\n",
    "counts_filtered <- counts[rowSums(cpms > 1) >= minCount & !noint,]\n",
    "samplesCanine$Hist <- relevel(samplesCanine$Hist,\"N\")\n",
    "samplesCanine <- samplesCanine %>% mutate(Patient = factor(PatientNumber))"
   ]
  },
  {
   "cell_type": "markdown",
   "metadata": {},
   "source": [
    "### Prepare Data & Identify Differentially Expressed Genes"
   ]
  },
  {
   "cell_type": "code",
   "execution_count": 7,
   "metadata": {},
   "outputs": [
    {
     "name": "stdout",
     "output_type": "stream",
     "text": [
      "[1] \"Estimating dispersion\"\n"
     ]
    }
   ],
   "source": [
    "## Estimate Dispersion\n",
    "print('Estimating dispersion')\n",
    "design <- model.matrix( ~Patient+Hist, samplesCanine)\n",
    "d <- DGEList(counts = counts_filtered, group = samplesCanine$Hist)\n",
    "d <- calcNormFactors(d)\n",
    "d <- estimateGLMTrendedDisp(d, design)\n",
    "d <- estimateGLMTagwiseDisp(d, design)"
   ]
  },
  {
   "cell_type": "code",
   "execution_count": 8,
   "metadata": {},
   "outputs": [
    {
     "name": "stdout",
     "output_type": "stream",
     "text": [
      "[1] \"Performing differential expresion analysis\"\n"
     ]
    },
    {
     "name": "stderr",
     "output_type": "stream",
     "text": [
      "Warning message in makeContrasts(HistM - HistB, levels = d_fit$design):\n",
      "“Renaming (Intercept) to Intercept”"
     ]
    }
   ],
   "source": [
    "## Perform DE Analysis\n",
    "print('Performing differential expresion analysis')\n",
    "d_fit <- glmFit(d,design)\n",
    "lrt_list <- list(\n",
    "    b_n = glmLRT(d_fit,coef = \"HistB\"),\n",
    "    m_n = glmLRT(d_fit,coef = \"HistM\"),\n",
    "    m_b = glmLRT(d_fit,contrast = makeContrasts(HistM-HistB, levels = d_fit$design)),\n",
    "    n_b_m = glmLRT(d_fit,coef = c(\"HistM\", \"HistB\"))\n",
    "    )\n",
    "tidy.DGELRT <- function(x, ...) {\n",
    "  ret <- fix_data_frame(x$table, newcol = \"gene\")\n",
    "}\n",
    "LRTtidied <- ldply(lrt_list, tidy,.id = \"contrast\") %>%\n",
    "  group_by(contrast) %>%\n",
    "  mutate(qval = qvalue(PValue)$qvalues)"
   ]
  },
  {
   "cell_type": "markdown",
   "metadata": {},
   "source": [
    "### Load mappings to human (if option is set)"
   ]
  },
  {
   "cell_type": "code",
   "execution_count": 9,
   "metadata": {},
   "outputs": [
    {
     "name": "stdout",
     "output_type": "stream",
     "text": [
      "[1] \"Using previously generated human mapping file\"\n"
     ]
    }
   ],
   "source": [
    "## NOTE: Sometimes the bioMart datasets won't load. Just wait a bit and try again, they usually come back up quickly\n",
    "if(!opt$map.human) {\n",
    "  print('Using previously generated human mapping file')\n",
    "  load(paste(opt$datadir,\"humanmapping.rda\",sep='/'))\n",
    "} else {\n",
    "  print('Generating new human mapping file')\n",
    "  allgenes <- LRTtidied %>% ungroup %>% select(gene) %>% distinct %>% .$gene\n",
    "\n",
    "  Map_CanEns2Info <-  getBM(attributes = c('ensembl_gene_id','external_gene_name','description'),\n",
    "                          filters = list(ensembl_gene_id = allgenes),\n",
    "                          mart = useMart(\"ensembl\",dataset = \"cfamiliaris_gene_ensembl\"))\n",
    "\n",
    "  Map_CanEns2HumEns <- getBM(attributes = c('ensembl_gene_id','hsapiens_homolog_ensembl_gene'),\n",
    "                           filters = list(ensembl_gene_id = allgenes, with_hsapiens_homolog = TRUE),\n",
    "                           mart = useMart(\"ensembl\",dataset = \"cfamiliaris_gene_ensembl\"))\n",
    "\n",
    "  Map_HumEns2Entrez <- getBM(attributes = c('ensembl_gene_id','entrezgene'),\n",
    "                           filters = 'ensembl_gene_id',\n",
    "                           values = Map_CanEns2HumEns$hsapiens_homolog_ensembl_gene,\n",
    "                           mart = useMart(\"ensembl\",dataset = \"hsapiens_gene_ensembl\"))\n",
    "\n",
    "  Map_HumEns2Symb <- getBM(attributes = c('ensembl_gene_id','external_gene_name'),\n",
    "                         filters = 'ensembl_gene_id',\n",
    "                         values = Map_CanEns2HumEns$hsapiens_homolog_ensembl_gene,\n",
    "                         mart = useMart(\"ensembl\",dataset = \"hsapiens_gene_ensembl\"))\n",
    "\n",
    "  Map_CanEns2HumEnt <- inner_join(Map_CanEns2HumEns,\n",
    "                                Map_HumEns2Entrez,\n",
    "                                by = c(\"hsapiens_homolog_ensembl_gene\" = \"ensembl_gene_id\"))\n",
    "\n",
    "  Map_CanEns2HumEnt_unique <- Map_CanEns2HumEnt %>%\n",
    "    select(Can_Ens = ensembl_gene_id, Hum_Ent = entrezgene) %>% distinct %>%\n",
    "    group_by(Can_Ens) %>%\n",
    "    filter(length(Can_Ens) == 1) %>%\n",
    "    group_by(Hum_Ent) %>%\n",
    "    filter(length(Hum_Ent) == 1) %>%\n",
    "    ungroup %>% mutate(Hum_Ent = as.character(Hum_Ent))\n",
    "\n",
    "  Map_CanEns2HumSymb <- inner_join(Map_CanEns2HumEns,\n",
    "                                 Map_HumEns2Symb,\n",
    "                                 by = c(\"hsapiens_homolog_ensembl_gene\" = \"ensembl_gene_id\"))\n",
    "\n",
    "  Map_CanEns2HumSymb_unique <- Map_CanEns2HumSymb %>%\n",
    "    select(Can_Ens = ensembl_gene_id,Hum_Symb = external_gene_name) %>% distinct %>%\n",
    "    group_by(Can_Ens) %>%\n",
    "    filter(length(Can_Ens) == 1) %>%\n",
    "    group_by(Hum_Symb) %>%\n",
    "    filter(length(Hum_Symb) == 1)\n",
    "\n",
    "  save(Map_CanEns2HumEns,\n",
    "       Map_CanEns2Info,\n",
    "       Map_CanEns2HumEnt,\n",
    "       Map_CanEns2HumEnt_unique,\n",
    "       Map_CanEns2HumSymb,\n",
    "       Map_CanEns2HumSymb_unique,file=paste(opt$datadir,\"humanmapping.rda\",sep='/'))\n",
    "\n",
    "       #Map_CanEns2HumSymb_unique,file=\"humanmapping.rda\")\n",
    "\n",
    "} # End human mapping"
   ]
  },
  {
   "cell_type": "markdown",
   "metadata": {},
   "source": [
    "### Generate the profile metrics (later used to generate PEPs)"
   ]
  },
  {
   "cell_type": "code",
   "execution_count": 10,
   "metadata": {},
   "outputs": [
    {
     "name": "stdout",
     "output_type": "stream",
     "text": [
      "[1] \"Generating profile metrics\"\n"
     ]
    }
   ],
   "source": [
    "print('Generating profile metrics')\n",
    "profileMetrics <- LRTtidied %>%\n",
    "    filter(contrast!=\"n_b_m\") %>%\n",
    " select(contrast, gene, logFC, PValue, qval) %>%\n",
    "   gather(type, value, -contrast, -gene) %>%\n",
    "   unite(contrast_type, contrast, type, sep=\".\") %>%\n",
    "   spread(contrast_type, value) %>%\n",
    "inner_join(Map_CanEns2HumSymb_unique,by=c(\"gene\"=\"Can_Ens\"))"
   ]
  },
  {
   "cell_type": "code",
   "execution_count": 11,
   "metadata": {},
   "outputs": [],
   "source": [
    "getCPMWithoutPatient <- function(DGEFit) {\n",
    "  cpm = cpm(DGEFit$counts,normalized.lib.sizes = TRUE, log = FALSE)\n",
    "  cpm = cpm + .25 #Add prior\n",
    "  logcpm = log(cpm)\n",
    "  patient.cols = grep(\"Patient\", colnames(DGEFit$coefficients))\n",
    "  due.to.patient = DGEFit$coefficients[, patient.cols] %*% t(DGEFit$design[, patient.cols])\n",
    "  without.patient = logcpm - due.to.patient\n",
    "  without.patient = log(exp(without.patient), base = 2) #To make comparable to cpm()\n",
    "  return(without.patient)\n",
    "}"
   ]
  },
  {
   "cell_type": "markdown",
   "metadata": {},
   "source": [
    "### Generate and save the canine expression data matrices"
   ]
  },
  {
   "cell_type": "code",
   "execution_count": 12,
   "metadata": {},
   "outputs": [
    {
     "name": "stdout",
     "output_type": "stream",
     "text": [
      "[1] \"Generating canine data matrices\"\n"
     ]
    }
   ],
   "source": [
    "print('Generating canine data matrices')\n",
    "CPMmatrices <- list(\n",
    "  raw = cpm(d_fit$counts, normalized.lib.sizes = FALSE, log = FALSE),\n",
    "  norm = cpm(d_fit$counts, normalized.lib.sizes = TRUE, log = FALSE),\n",
    "  znorm = t(scale(t(cpm(d_fit$counts, normalized.lib.sizes = TRUE, log = FALSE)),center = TRUE, scale = TRUE)),\n",
    "  patregressed = getCPMWithoutPatient(d_fit),\n",
    "  zpatregressed = t(scale(t(getCPMWithoutPatient(d_fit)),center = TRUE,scale = TRUE))\n",
    "  )"
   ]
  },
  {
   "cell_type": "code",
   "execution_count": 13,
   "metadata": {},
   "outputs": [
    {
     "name": "stdout",
     "output_type": "stream",
     "text": [
      "[1] \"Saving rda files\"\n"
     ]
    }
   ],
   "source": [
    "## Save updated files\n",
    "print('Saving rda files')\n",
    "save(CPMmatrices, file=paste(opt$outdir,'CPMmatrices.rda',sep='/'))\n",
    "save(LRTtidied, file=paste(opt$outdir,'LRTtidied.rda',sep='/'))\n",
    "save(profileMetrics, file=paste(opt$outdir,'profileMetrics.rda',sep='/'))"
   ]
  },
  {
   "cell_type": "code",
   "execution_count": 14,
   "metadata": {},
   "outputs": [
    {
     "name": "stdout",
     "output_type": "stream",
     "text": [
      "[1] \"Saving delimited files\"\n"
     ]
    },
    {
     "name": "stderr",
     "output_type": "stream",
     "text": [
      "Warning message:\n",
      "“Setting row names on a tibble is deprecated.”"
     ]
    },
    {
     "name": "stdout",
     "output_type": "stream",
     "text": [
      "[1] \"Finished. Success!\"\n"
     ]
    }
   ],
   "source": [
    "## Save the dog matrices\n",
    "print('Saving delimited files')\n",
    "dat.dog <- CPMmatrices$zpatregressed\n",
    "names.dog <- intersect( Map_CanEns2HumSymb_unique$Can_Ens, rownames(dat.dog) ) # Only care about genes that map to human\n",
    "Map_CanEns2HumSymb_unique <- Map_CanEns2HumSymb_unique[ Map_CanEns2HumSymb_unique$Can_Ens %in% names.dog, ]\n",
    "rownames( Map_CanEns2HumSymb_unique ) <- Map_CanEns2HumSymb_unique$Can_Ens\n",
    "\n",
    "## Map to human, make dog ID's more dog-obvious\n",
    "dat.dog <- dat.dog[names.dog,]\n",
    "rownames(dat.dog) <- Map_CanEns2HumSymb_unique$Hum_Symb\n",
    "\n",
    "## Save to file\n",
    "write.table(t(dat.dog), file=paste(opt$outdir,'Canine_RNASeq.tab',sep='/'), sep='\\t', col.names=TRUE, row.names=TRUE, quote=FALSE)\n",
    "write.table(t(dat.dog), file=paste(opt$outdir,'Canine_RNASeq.csv',sep='/'), sep=',', col.names=TRUE, row.names=TRUE, quote=FALSE)\n",
    "\n",
    "## Save the canine samples data\n",
    "dog.labs <- data.frame( samplesCanine$Qlabel, samplesCanine$Hist )\n",
    "colnames(dog.labs) <- c('ID','Hist')\n",
    "write.table(dog.labs, file=paste(opt$outdir,'Canine_Labels.tab',sep='/'), sep='\\t', col.names=TRUE, row.names=FALSE, quote=FALSE)\n",
    "\n",
    "## Now grab malignant vs normal - remove benign samples (for tumor-normal analyses)\n",
    "x <- t(dat.dog[ ,as.character(dog.labs[ dog.labs$Hist !='B', 'ID' ]),drop=FALSE])\n",
    "write.table(x, file=paste(opt$outdir,'Canine_RNASeq_TumorVSNormal.t.tab',sep='/'), sep='\\t', col.names=TRUE, row.names=TRUE, quote=FALSE)\n",
    "\n",
    "print('Finished. Success!')"
   ]
  }
 ],
 "metadata": {
  "kernelspec": {
   "display_name": "R",
   "language": "R",
   "name": "ir"
  },
  "language_info": {
   "codemirror_mode": "r",
   "file_extension": ".r",
   "mimetype": "text/x-r-source",
   "name": "R",
   "pygments_lexer": "r",
   "version": "3.4.2"
  }
 },
 "nbformat": 4,
 "nbformat_minor": 2
}
