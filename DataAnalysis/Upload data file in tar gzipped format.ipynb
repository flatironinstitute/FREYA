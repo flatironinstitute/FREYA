{
 "cells": [
  {
   "cell_type": "markdown",
   "metadata": {},
   "source": [
    "# Upload tar.gz data file\n",
    "\n",
    "Please use the widget below to upload a data file\n",
    "and then execute the following cells to extract the data file."
   ]
  },
  {
   "cell_type": "code",
   "execution_count": 12,
   "metadata": {
    "collapsed": false
   },
   "outputs": [
    {
     "data": {
      "application/vnd.jupyter.widget-view+json": {
       "model_id": "5b120d0295ff40a38268f73dd046fea7",
       "version_major": 2,
       "version_minor": 0
      },
      "text/html": [
       "<p>Failed to display Jupyter Widget of type <code>JSProxyWidget</code>.</p>\n",
       "<p>\n",
       "  If you're reading this message in Jupyter Notebook or JupyterLab, it may mean\n",
       "  that the widgets JavaScript is still loading. If this message persists, it\n",
       "  likely means that the widgets JavaScript library is either not installed or\n",
       "  not enabled. See the <a href=\"https://ipywidgets.readthedocs.io/en/stable/user_install.html\">Jupyter\n",
       "  Widgets Documentation</a> for setup instructions.\n",
       "</p>\n",
       "<p>\n",
       "  If you're reading this message in another notebook frontend (for example, a static\n",
       "  rendering on GitHub or <a href=\"https://nbviewer.jupyter.org/\">NBViewer</a>),\n",
       "  it may mean that your frontend doesn't currently support widgets.\n",
       "</p>\n"
      ],
      "text/plain": [
       "JSProxyWidget(status='Not yet rendered')"
      ]
     },
     "metadata": {},
     "output_type": "display_data"
    }
   ],
   "source": [
    "tgz_filename = \"data.tgz\"\n",
    "from jp_proxy_widget import uploader\n",
    "upload = uploader.BinaryUploader(\n",
    "    \"tar/gz file upload: \", \n",
    "    to_filename=tgz_filename)\n",
    "upload.widget"
   ]
  },
  {
   "cell_type": "code",
   "execution_count": 13,
   "metadata": {
    "collapsed": false
   },
   "outputs": [
    {
     "name": "stdout",
     "output_type": "stream",
     "text": [
      "Please execute the following cells.\n"
     ]
    }
   ],
   "source": [
    "uploaded = (upload.uploaded_filename == tgz_filename)\n",
    "tested = extracted = False\n",
    "\n",
    "if uploaded:\n",
    "    print (\"Please execute the following cells.\")\n",
    "else:\n",
    "    print (\"Please upload a file to proceed.\")"
   ]
  },
  {
   "cell_type": "code",
   "execution_count": 16,
   "metadata": {
    "collapsed": false
   },
   "outputs": [
    {
     "name": "stdout",
     "output_type": "stream",
     "text": [
      "testing the tarball: make sure it unpacks into \"user_data\"\n",
      "Test tar output is:\n",
      "user_data/\n",
      "user_data/mutations_genesOnly.csv\n",
      "user_data/old_PAM50_dog.csv\n",
      "user_data/output/\n",
      "user_data/PAM50_dog.csv\n",
      "user_data/UserDogData_Phenotype.csv\n",
      "user_data/UserDogData_RNASeq.tab\n",
      "user_data/output/._COSMIC_Genes_Mutations.pdf\n",
      "user_data/output/COSMIC_Genes_Mutations.pdf\n",
      "user_data/output/FreqMutatedGenes_ClinicalCorrelations.csv\n",
      "user_data/output/._MutationConsistency.pdf\n",
      "user_data/output/MutationConsistency.pdf\n",
      "user_data/output/._Sample_Mut_Rates.pdf\n",
      "user_data/output/Sample_Mut_Rates.pdf\n",
      "user_data/output/._Sample_Mutation_Counts_Density.pdf\n",
      "user_data/output/Sample_Mutation_Counts_Density.pdf\n",
      "\n",
      "Test tar output looks ok.\n"
     ]
    }
   ],
   "source": [
    "# based on https://stackoverflow.com/questions/16198546/get-exit-code-and-stderr-from-subprocess-call\n",
    "import subprocess\n",
    "\n",
    "def execute_command(command):\n",
    "    try:\n",
    "        output = subprocess.check_output(\n",
    "            command, stderr=subprocess.STDOUT, shell=True, timeout=3,\n",
    "            universal_newlines=True)\n",
    "    except subprocess.CalledProcessError as exc:\n",
    "        print(\"Status : FAIL\", exc.returncode, exc.output)\n",
    "        raise\n",
    "    return output\n",
    "\n",
    "if not uploaded:\n",
    "    print (\"Previous cells did not complete.  Please upload a file (again).\")\n",
    "else:\n",
    "    tested = False\n",
    "    print('testing the tarball: make sure it unpacks into \"user_data\"')\n",
    "    command = \"tar tfz \" + tgz_filename\n",
    "    output = execute_command(command)\n",
    "    print (\"Test tar output is:\")\n",
    "    print (output)\n",
    "    lines = output.split(\"\\n\")\n",
    "    paths_ok = True\n",
    "    for line in lines:\n",
    "        line = line.strip()\n",
    "        if not line:\n",
    "            continue\n",
    "        if line.split(\"/\")[0:1] != [\"user_data\"]:\n",
    "            print (\"Bad file path: \" + repr(line))\n",
    "            paths_ok = False\n",
    "    tested = paths_ok\n",
    "    if tested:\n",
    "        print (\"Test tar output looks ok.\")\n",
    "    else:\n",
    "        print (\"Tar file failed the sanity check.\")"
   ]
  },
  {
   "cell_type": "code",
   "execution_count": 18,
   "metadata": {
    "collapsed": false
   },
   "outputs": [
    {
     "name": "stdout",
     "output_type": "stream",
     "text": [
      "Tar extraction completed with output:\n",
      "x user_data/\n",
      "x user_data/mutations_genesOnly.csv\n",
      "x user_data/old_PAM50_dog.csv\n",
      "x user_data/output/\n",
      "x user_data/PAM50_dog.csv\n",
      "x user_data/UserDogData_Phenotype.csv\n",
      "x user_data/UserDogData_RNASeq.tab\n",
      "x user_data/output/._COSMIC_Genes_Mutations.pdf\n",
      "x user_data/output/COSMIC_Genes_Mutations.pdf\n",
      "x user_data/output/FreqMutatedGenes_ClinicalCorrelations.csv\n",
      "x user_data/output/._MutationConsistency.pdf\n",
      "x user_data/output/MutationConsistency.pdf\n",
      "x user_data/output/._Sample_Mut_Rates.pdf\n",
      "x user_data/output/Sample_Mut_Rates.pdf\n",
      "x user_data/output/._Sample_Mutation_Counts_Density.pdf\n",
      "x user_data/output/Sample_Mutation_Counts_Density.pdf\n",
      "\n"
     ]
    }
   ],
   "source": [
    "if not (uploaded and tested):\n",
    "    print (\"Previous cells did not complete.  Please upload a file (again).\")\n",
    "else:\n",
    "    extracted = False\n",
    "    command = \"tar xvfz \" + tgz_filename\n",
    "    output = execute_command(command)\n",
    "    extracted = True\n",
    "    print (\"Tar extraction completed with output:\")\n",
    "    print (output)"
   ]
  },
  {
   "cell_type": "code",
   "execution_count": null,
   "metadata": {
    "collapsed": true
   },
   "outputs": [],
   "source": [
    "if uploaded and tested and extracted:\n",
    "    print (\"The file has been extracted successfully.\")\n",
    "else:\n",
    "    print (\"The file extraction did not complete successfully.  Please try again.\")"
   ]
  }
 ],
 "metadata": {
  "kernelspec": {
   "display_name": "Python 3",
   "language": "python",
   "name": "python3"
  },
  "language_info": {
   "codemirror_mode": {
    "name": "ipython",
    "version": 3
   },
   "file_extension": ".py",
   "mimetype": "text/x-python",
   "name": "python",
   "nbconvert_exporter": "python",
   "pygments_lexer": "ipython3",
   "version": "3.6.3"
  }
 },
 "nbformat": 4,
 "nbformat_minor": 2
}
