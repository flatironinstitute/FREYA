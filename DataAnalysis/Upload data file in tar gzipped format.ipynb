{
 "cells": [
  {
   "cell_type": "markdown",
   "metadata": {
    "deletable": true,
    "editable": true
   },
   "source": [
    "# Upload tar.gz data file\n",
    "\n",
    "Please use the widget below to upload a data file\n",
    "and then execute the following cells to extract the data file."
   ]
  },
  {
   "cell_type": "code",
   "execution_count": null,
   "metadata": {
    "collapsed": false,
    "deletable": true,
    "editable": true
   },
   "outputs": [],
   "source": [
    "tgz_filename = \"data.tgz\"\n",
    "import uploader\n",
    "\n",
    "upload = uploader.BinaryUploader(\n",
    "    \"tar/gz file upload: \", \n",
    "    to_filename=tgz_filename,\n",
    "    chunk_size=100000)\n",
    "\n",
    "import ipywidgets as widgets\n",
    "import traitlets\n",
    "feedback = widgets.Label()\n",
    "traitlets.directional_link((upload, \"status\"), (feedback, \"value\"))\n",
    "upload_with_feedback = widgets.VBox(children=[upload.widget, feedback])\n",
    "upload_with_feedback"
   ]
  },
  {
   "cell_type": "code",
   "execution_count": null,
   "metadata": {
    "collapsed": false,
    "deletable": true,
    "editable": true
   },
   "outputs": [],
   "source": [
    "uploaded = (upload.uploaded_filename == tgz_filename)\n",
    "tested = extracted = False\n",
    "\n",
    "if uploaded:\n",
    "    print (\"Please execute the following cells.\")\n",
    "else:\n",
    "    print (\"Please upload a file to proceed.\")"
   ]
  },
  {
   "cell_type": "code",
   "execution_count": null,
   "metadata": {
    "collapsed": false,
    "deletable": true,
    "editable": true
   },
   "outputs": [],
   "source": [
    "# based on https://stackoverflow.com/questions/16198546/get-exit-code-and-stderr-from-subprocess-call\n",
    "import subprocess\n",
    "\n",
    "def execute_command(command):\n",
    "    try:\n",
    "        output = subprocess.check_output(\n",
    "            command, stderr=subprocess.STDOUT, shell=True, timeout=300,\n",
    "            universal_newlines=True)\n",
    "    except subprocess.CalledProcessError as exc:\n",
    "        print(\"Status : FAIL\", exc.returncode, exc.output)\n",
    "        raise\n",
    "    return output\n",
    "\n",
    "if not uploaded:\n",
    "    print (\"Previous cells did not complete.  Please upload a file (again).\")\n",
    "else:\n",
    "    tested = False\n",
    "    print('testing the tarball: make sure it unpacks into \"user_data\"')\n",
    "    command = \"tar tfz \" + tgz_filename\n",
    "    output = execute_command(command)\n",
    "    print (\"Test tar output is:\")\n",
    "    print (output)\n",
    "    lines = output.split(\"\\n\")\n",
    "    paths_ok = True\n",
    "    for line in lines:\n",
    "        line = line.strip()\n",
    "        if not line:\n",
    "            continue\n",
    "        if line.split(\"/\")[0:1] != [\"user_data\"]:\n",
    "            print (\"Bad file path: \" + repr(line))\n",
    "            paths_ok = False\n",
    "    tested = paths_ok\n",
    "    if tested:\n",
    "        print (\"Test tar output looks ok.\")\n",
    "    else:\n",
    "        print (\"Tar file failed the sanity check.\")"
   ]
  },
  {
   "cell_type": "code",
   "execution_count": null,
   "metadata": {
    "collapsed": false,
    "deletable": true,
    "editable": true
   },
   "outputs": [],
   "source": [
    "if not (uploaded and tested):\n",
    "    print (\"Previous cells did not complete.  Please upload a file (again).\")\n",
    "else:\n",
    "    extracted = False\n",
    "    command = \"tar xvfz \" + tgz_filename\n",
    "    output = execute_command(command)\n",
    "    extracted = True\n",
    "    print (\"Tar extraction completed with output:\")\n",
    "    print (output)"
   ]
  },
  {
   "cell_type": "code",
   "execution_count": null,
   "metadata": {
    "collapsed": true,
    "deletable": true,
    "editable": true
   },
   "outputs": [],
   "source": [
    "if uploaded and tested and extracted:\n",
    "    print (\"The file has been extracted successfully.\")\n",
    "else:\n",
    "    print (\"The file extraction did not complete successfully.  Please try again.\")"
   ]
  }
 ],
 "metadata": {
  "kernelspec": {
   "display_name": "Python 3",
   "language": "python",
   "name": "python3"
  },
  "language_info": {
   "codemirror_mode": {
    "name": "ipython",
    "version": 3
   },
   "file_extension": ".py",
   "mimetype": "text/x-python",
   "name": "python",
   "nbconvert_exporter": "python",
   "pygments_lexer": "ipython3",
   "version": "3.6.3"
  }
 },
 "nbformat": 4,
 "nbformat_minor": 2
}
