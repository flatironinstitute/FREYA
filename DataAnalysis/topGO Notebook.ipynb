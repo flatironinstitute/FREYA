{
 "cells": [
  {
   "cell_type": "markdown",
   "metadata": {},
   "source": [
    "## Gene Ontology enrichment analysis\n",
    "\n",
    "This is a Jupyter notebook.\n",
    "\n",
    "To run all cells in the notebook use `Cell --> Run All`.\n",
    "\n",
    "To run cells one at a time click into the first code cell and key `Shift-Enter` in each cell in sequence.\n",
    "\n",
    "More information on Jupyter notebooks can be found\n",
    "[here](http://jupyter-notebook.readthedocs.io/en/stable/examples/Notebook/Running%20Code.html).\n"
   ]
  },
  {
   "cell_type": "code",
   "execution_count": null,
   "metadata": {},
   "outputs": [],
   "source": [
    "## Set the plot window sizes within the notebook (in inches)\n",
    "options(repr.plot.width=6, repr.plot.height=8)"
   ]
  },
  {
   "cell_type": "markdown",
   "metadata": {},
   "source": [
    "## Please comment or uncomment the following declarations as appropriate for your run of this notebook:"
   ]
  },
  {
   "cell_type": "code",
   "execution_count": null,
   "metadata": {},
   "outputs": [],
   "source": [
    "# Set parameters\n",
    "opt <- list()\n",
    "opt$universe   <- './user_data/CMT_PEPs.csv'# File with all genes & their scores. 'interesting' genes chosen based on opt$cutoff\n",
    "#opt$mapping    <- 'YOURMAPPINGFILE' # Comment this out to have topGO retrieve the latest mapping\n",
    "opt$outdir     <- './user_data/results'\n",
    "opt$cutoff     <- 0.05  # Minimum qvalue to be included in a PEP (default 0.05)\n",
    "opt$num        <- 10 # Minimum number of genes in a geneset for the geneset to be included in enrichment analysis\n",
    "opt$two        <- FALSE # Set to TRUE to run two-way histology enrichment\n",
    "opt$workingdir <- './user_data'"
   ]
  },
  {
   "cell_type": "markdown",
   "metadata": {},
   "source": [
    "### Setting up the notebook libraries and functions"
   ]
  },
  {
   "cell_type": "code",
   "execution_count": null,
   "metadata": {},
   "outputs": [],
   "source": [
    "## Load libraries\n",
    "print('Loading packages...')\n",
    "library(\"topGO\")\n",
    "library(\"goseq\")\n",
    "library(\"dplyr\")\n",
    "\n",
    "## If the output directory doesn't exist, create it\n",
    "if(!dir.exists(opt$outdir)) {\n",
    "  print(paste('Creating output directory',opt$outdir))\n",
    "  system(paste('mkdir -p',opt$outdir))\n",
    "}"
   ]
  },
  {
   "cell_type": "code",
   "execution_count": null,
   "metadata": {},
   "outputs": [],
   "source": [
    "### Function to run topGO\n",
    "run_topGO <- function(peps, pep.name, alg='weight01', ns=opt$num) {\n",
    "\n",
    "  ## Whole gene list\n",
    "  geneUniverse <- peps[, pep.name]\n",
    "  names(geneUniverse) <- peps$HumanSymbol\n",
    "\n",
    "  ## Load the GO annotations to use\n",
    "  if( !is.null(opt$mapping) ) {\n",
    "    print('mapping null')\n",
    "    geneID2GO <- try(readMappings(file=opt$mapping))\n",
    "    if(inherits(geneID2GO, \"try-error\")) { print('ERROR: Unable to read mapping file.'); quit(save='no',status=1) }\n",
    "  } else {\n",
    "    geneID2GO = getgo(peps$HumanSymbol, genome='hg19', 'geneSymbol')\n",
    "  }\n",
    "\n",
    "  ## How we select the genes of interest\n",
    "  topDiffGenes <- function(allScore) { return(allScore < opt$cutoff) }\n",
    "\n",
    "  ## Set the ontology (in this case we're always using BP)\n",
    "  desiredOntology <- 'BP'\n",
    "\n",
    "  ## Run topGO\n",
    "  topGOdata <- new('topGOdata',\n",
    "    description = paste(pep.name,desiredOntology),\n",
    "    ontology = desiredOntology,\n",
    "    allGenes = geneUniverse,\n",
    "    geneSel = topDiffGenes,\n",
    "    annot = annFUN.gene2GO,\n",
    "    gene2GO = geneID2GO,\n",
    "    nodeSize = ns)\n",
    "\n",
    "  ## Calculate significance of results, adjust for multiple hypotheses\n",
    "  resultKS     <- runTest(topGOdata, algorithm = alg, statistic = 'ks')\n",
    "  dfresult     <- GenTable(topGOdata,pvalue=resultKS,topNodes=length(resultKS@score))\n",
    "  dfresult$FDR <- p.adjust(dfresult$pvalue,method='BH')\n",
    "  dfresult     <- dfresult[dfresult$pvalue<0.05,]\n",
    "\n",
    "  ## Don't return results that are significantly under-represented\n",
    "  dfresult <- dfresult[ dfresult$Significant > dfresult$Expected,]\n",
    "\n",
    "  ## Add list of genes in each set\n",
    "  dfresult$Genes <- sapply(dfresult$GO.ID, function(x) { paste(unlist(genesInTerm(topGOdata, x)), collapse=',') } )\n",
    "\n",
    "  return( dfresult )\n",
    "} # End run_topGO"
   ]
  },
  {
   "cell_type": "markdown",
   "metadata": {},
   "source": [
    "### Run gene ontology enrichment on each PEP list"
   ]
  },
  {
   "cell_type": "code",
   "execution_count": null,
   "metadata": {},
   "outputs": [],
   "source": [
    "### Run topGO on each PEP\n",
    "peps <- read.csv(opt$universe)\n",
    "\n",
    "print(paste('Successfully loaded gene universe and scores:',opt$universe))\n",
    "\n",
    "pep.names <- c('Tumor_Expression_Pattern', 'Carcinoma_Expression_Pattern', 'Adenoma_Expression_Pattern')\n",
    "go.res <- lapply(pep.names, function(x){ run_topGO(peps,pep.name=x) })\n",
    "names(go.res) <- pep.names"
   ]
  },
  {
   "cell_type": "markdown",
   "metadata": {},
   "source": [
    "### Run gene ontology enrichment on BRCA"
   ]
  },
  {
   "cell_type": "code",
   "execution_count": null,
   "metadata": {},
   "outputs": [],
   "source": [
    "print('Running the BRCA comparisons'); flush.console()\n",
    "\n",
    "## Scores generated in DESeq3.R and also provided in the repository\n",
    "de.brca <- read.table('./data/BRCA_sig_genes.csv', sep=',', header=TRUE, row.names=1, check.names=FALSE)\n",
    "geneUniverse <- de.brca[,'AbsLog10FoldChange' ]\n",
    "names(geneUniverse) <- rownames(de.brca)\n",
    "\n",
    "geneID2GO = getgo(rownames(de.brca), genome='hg19', 'geneSymbol')\n",
    "topDiffGenes <- function(allScore) { return(allScore < 0.5) }\n",
    "desiredOntology <- 'BP'\n",
    "\n",
    "topGOdata <- new('topGOdata',\n",
    "  description = paste('BRCA',desiredOntology),\n",
    "  ontology = desiredOntology,\n",
    "  allGenes = geneUniverse,\n",
    "  geneSel = topDiffGenes,\n",
    "  annot = annFUN.gene2GO,\n",
    "  gene2GO = geneID2GO,\n",
    "  nodeSize = opt$num)\n",
    "\n",
    "resultKS     <- runTest(topGOdata, algorithm = 'weight01', statistic = 'ks')\n",
    "brca.go.res     <-GenTable(topGOdata,pvalue=resultKS,topNodes=length(resultKS@score))\n",
    "brca.go.res$FDR <-p.adjust(brca.go.res$pvalue,method='BH')\n",
    "brca.go.res     <- brca.go.res[brca.go.res$pvalue<0.05,]\n",
    "brca.go.res <- brca.go.res[ brca.go.res$Significant > brca.go.res$Expected,]\n",
    "brca.go.res$Genes <- sapply(brca.go.res$GO.ID, function(x) { paste(unlist(genesInTerm(topGOdata, x)), collapse=',') } )\n",
    "\n",
    "write.table(brca.go.res, file=paste(opt$outdir,'BRCA_GO_res.csv',sep='/'), sep=',', col.names=TRUE, row.names=TRUE, quote=TRUE) # TODO temp print statement"
   ]
  },
  {
   "cell_type": "markdown",
   "metadata": {},
   "source": [
    "### If the option is set, run gene ontology enrichment on each pairwise histology comparison"
   ]
  },
  {
   "cell_type": "code",
   "execution_count": null,
   "metadata": {},
   "outputs": [],
   "source": [
    "### Run topGO using each histology contrast m_n from LRTtidied\n",
    "if( opt$two ) {\n",
    "  print('Running the Histology comparisons.')\n",
    "\n",
    "  ## Check to make sure the required rda files exist, if yes then load them & run analysis\n",
    "  ## Make sure all of the required files exist - quit if any are missing\n",
    "  for( rda in c('LRTtidied.rda','humanmapping.rda') ) {\n",
    "    rda <- paste(opt$workingdir,rda, sep='/')\n",
    "    if(!file.exists(rda)) { print(paste('ERROR: Unable to locate',rda)); quit(save='no',status=1) }\n",
    "    load(rda)\n",
    "  }\n",
    "\n",
    "  ## Add human mappings\n",
    "  LRTtidied$HumanSymbol <- NA #Not all map to human\n",
    "  LRTtidied$HumanSymbol[ LRTtidied$gene %in% Map_CanEns2HumSymb_unique$Can_Ens ] <- Map_CanEns2HumSymb_unique$Hum_Symb\n",
    "  LRTtidied <- LRTtidied[! is.na(LRTtidied$HumanSymbol),]\n",
    "\n",
    "  # Malignant vs Normal - only print significantly enriched terms (not significantly under-enriched)\n",
    "  print('Processing: Malignant vs Normal')\n",
    "  dfresult <- run_topGO( as.data.frame(LRTtidied[ LRTtidied$contrast=='m_n',]),  pep.name='logFC')\n",
    "  res.maligVSnormal <- dfresult # Save for later compiling\n",
    "  write.table(dfresult, file=paste(opt$outdir,'2WAY_MvsN.csv',sep='/'), sep=',', col.names=TRUE, row.names=FALSE, quote=TRUE)\n",
    "\n",
    "  # Malignant vs Benign\n",
    "  print('Processing: Malignant vs Benign')\n",
    "  dfresult <- run_topGO( as.data.frame(LRTtidied[ LRTtidied$contrast=='m_b',]),  pep.name='logFC')\n",
    "  write.table(dfresult, file=paste(opt$outdir,'2WAY_MvsB.csv',sep='/'), sep=',', col.names=TRUE, row.names=FALSE, quote=TRUE)\n",
    "\n",
    "\n",
    "  # Benign vs Normal\n",
    "  print('Processing: Benign vs Normal')\n",
    "  dfresult <- run_topGO( as.data.frame(LRTtidied[ LRTtidied$contrast=='b_n',]),  pep.name='logFC')\n",
    "  write.table(dfresult, file=paste(opt$outdir,'2WAY_BvsN.csv',sep='/'), sep=',', col.names=TRUE, row.names=FALSE, quote=TRUE)\n",
    "}"
   ]
  },
  {
   "cell_type": "markdown",
   "metadata": {},
   "source": [
    "### Create the supplemental table with the results"
   ]
  },
  {
   "cell_type": "code",
   "execution_count": null,
   "metadata": {},
   "outputs": [],
   "source": [
    "## Combine the results into 1 table, save to file\n",
    "# P-val normal-carcinoma, Pvalue Tumor PEP, Pvalue Carcinoma PEP, Pvalue Adenoma PEP, SigGenes in Tumor PEP, SigGenes in Carcinoma PEP, SigGenes in Adenoma PEP\n",
    "print('Generating the supplemental table with results.')\n",
    "\n",
    "## Drop to columns we're interested in\n",
    "go.res$Adenoma_Expression_Pattern   <- go.res$Adenoma_Expression_Pattern[,c('GO.ID','Term','pvalue','Genes')]\n",
    "go.res$Carcinoma_Expression_Pattern <- go.res$Carcinoma_Expression_Pattern[,c('GO.ID','Term','pvalue','Genes')]\n",
    "go.res$Tumor_Expression_Pattern     <- go.res$Tumor_Expression_Pattern[,c('GO.ID','Term','pvalue','Genes')]\n",
    "\n",
    "## Change to unique column names\n",
    "colnames(go.res$Adenoma_Expression_Pattern)   <- c('GO.ID','Term','PValueEnrich_in_Adenoma_Expression_Pattern','SigGenes_Adenoma_PEP')\n",
    "colnames(go.res$Carcinoma_Expression_Pattern) <- c('GO.ID','Term','PValueEnrich_in_Carcinoma_Expression_Pattern','SigGenes_Carcinoma_PEP')\n",
    "colnames(go.res$Tumor_Expression_Pattern)     <- c('GO.ID','Term','PValueEnrich_in_Tumor_Expression_Pattern','SigGenes_Tumor_PEP')\n",
    "\n",
    "## Combine the PEP results tables into 1\n",
    "res <- full_join(go.res$Tumor_Expression_Pattern, go.res$Carcinoma_Expression_Pattern, by=c('GO.ID','Term'))\n",
    "res <- full_join(go.res$Adenoma_Expression_Pattern, res, by=c('GO.ID','Term'))\n",
    "\n",
    "## Add Normal vs Carcinoma comparison if option is set\n",
    "## Either way, reorder columns based on which comparisons are included\n",
    "if( opt$two ) {\n",
    "  res.maligVSnormal <- res.maligVSnormal[,c('GO.ID','Term','pvalue')]\n",
    "  colnames(res.maligVSnormal) <- c('GO.ID','Term','PValueEnrich_in_Normal_vs_Carcinoma')\n",
    "  res <- full_join(res.maligVSnormal, res, by=c('GO.ID','Term'))\n",
    "  res <- res[, c('GO.ID','Term','PValueEnrich_in_Normal_vs_Carcinoma','PValueEnrich_in_Tumor_Expression_Pattern','PValueEnrich_in_Carcinoma_Expression_Pattern','PValueEnrich_in_Adenoma_Expression_Pattern','SigGenes_Tumor_PEP','SigGenes_Carcinoma_PEP','SigGenes_Adenoma_PEP')]\n",
    "} else {\n",
    "  res <- res[, c('GO.ID','Term','PValueEnrich_in_Tumor_Expression_Pattern','PValueEnrich_in_Carcinoma_Expression_Pattern','PValueEnrich_in_Adenoma_Expression_Pattern','SigGenes_Tumor_PEP','SigGenes_Carcinoma_PEP','SigGenes_Adenoma_PEP')]\n",
    "}\n",
    "\n",
    "## NA gene lists to empty string\n",
    "res$SigGenes_Tumor_PEP[is.na(res$SigGenes_Tumor_PEP)] <- ''\n",
    "res$SigGenes_Carcinoma_PEP[is.na(res$SigGenes_Carcinoma_PEP)] <- ''\n",
    "res$SigGenes_Adenoma_PEP[is.na(res$SigGenes_Adenoma_PEP)] <- ''\n",
    "\n",
    "## NA p-values to 1\n",
    "res$PValueEnrich_in_Tumor_Expression_Pattern[is.na(res$PValueEnrich_in_Tumor_Expression_Pattern)] <- 1\n",
    "res$PValueEnrich_in_Carcinoma_Expression_Pattern[is.na(res$PValueEnrich_in_Carcinoma_Expression_Pattern)] <- 1\n",
    "res$PValueEnrich_in_Adenoma_Expression_Pattern[is.na(res$PValueEnrich_in_Adenoma_Expression_Pattern)] <- 1\n",
    "if( opt$two ) { res$PValueEnrich_in_Normal_vs_Carcinoma[is.na(res$PValueEnrich_in_Normal_vs_Carcinoma)] <- 1 }\n",
    "\n",
    "## Sort by Tumor P-value\n",
    "res <- res[with(res, order(PValueEnrich_in_Tumor_Expression_Pattern)),]\n",
    "\n",
    "## Save to file\n",
    "write.table(res, file=paste(opt$outdir, 'GO_Enrichment.csv', sep='/'), sep=',', col.names=T, row.names=F, quote=T)\n",
    "\n",
    "print(paste('Finished, printing files to:',opt$outdir))"
   ]
  }
 ],
 "metadata": {
  "kernelspec": {
   "display_name": "R",
   "language": "R",
   "name": "ir"
  },
  "language_info": {
   "codemirror_mode": "r",
   "file_extension": ".r",
   "mimetype": "text/x-r-source",
   "name": "R",
   "pygments_lexer": "r",
   "version": "3.4.2"
  }
 },
 "nbformat": 4,
 "nbformat_minor": 2
}
