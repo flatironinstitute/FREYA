{
 "cells": [
  {
   "cell_type": "markdown",
   "metadata": {},
   "source": [
    "## DESeq processing\n",
    "\n",
    "This is a Jupyter notebook.\n",
    "\n",
    "To run all cells in the notebook use `Cell --> Run All`.\n",
    "\n",
    "To run cells one at a time click into the first code cell and key `Shift-Enter` in each cell in sequence.\n",
    "\n",
    "More information on Jupyter notebooks can be found\n",
    "[here](http://jupyter-notebook.readthedocs.io/en/stable/examples/Notebook/Running%20Code.html)."
   ]
  },
  {
   "cell_type": "code",
   "execution_count": null,
   "metadata": {},
   "outputs": [],
   "source": [
    "## This script uses no data from the user???\n",
    "\n",
    "## Set the arguments to easy-to-read names\n",
    "fn.peps <- './data/CMT_peps.csv'  # PEP lists created in the expression pipeline. This is also Supp Table 1 in the manuscript \n",
    "\n",
    "## Filenames that don't change between users\n",
    "data.dir <- './data/' # Working directory - we should be providing this with the requisite files # TODO: This will need to match the layout we give the whole pipeline. Have it be wherever we store the data\n",
    "fn.brca.seq   <- paste0(data.dir,'BRCA_rnaseq_paired_noMets.t.txt')\n",
    "fn.brca.pam50 <- paste0(data.dir,'BRCA_tumorVSnormal_paired.txt')\n",
    "fn.geneconvs  <- paste0(data.dir,'Canine_Human_Gene_Conversion.txt') # Human-dog conversion - TODO should read this from the dog genom version (see Dima's code)\n",
    "fn.cosmic       <- paste0(data.dir,'roles_in_cancer.csv') # COSMIC genes list, should download most recent version instead of using included one?\n",
    "\n",
    "## Make sure all of the required files exist - quit if any are missing\n",
    "for( fn in c(fn.peps, fn.brca.seq, fn.brca.pam50, fn.geneconvs, fn.cosmic) ) {\n",
    "  if(!file.exists(fn)) { print(paste('ERROR: Unable to locate',fn))}\n",
    "}"
   ]
  },
  {
   "cell_type": "code",
   "execution_count": null,
   "metadata": {},
   "outputs": [],
   "source": [
    "source(\"https://bioconductor.org/biocLite.R\")"
   ]
  },
  {
   "cell_type": "code",
   "execution_count": null,
   "metadata": {},
   "outputs": [],
   "source": [
    "library(BiocInstaller)\n",
    "biocLite(\"impute\")"
   ]
  },
  {
   "cell_type": "code",
   "execution_count": null,
   "metadata": {},
   "outputs": [],
   "source": [
    "## Load libraries\n",
    "print('Loading packages...');flush.console()\n",
    "if(!require('samr')) {\n",
    " install.packages('samr')\n",
    "  library(samr)\n",
    "}\n",
    "if(!require('ggplot2')) {\n",
    "  install.packages('ggplot2')\n",
    "  library(ggplot2)\n",
    "}\n",
    "if(!require('plyr')) {\n",
    "  install.packages('plyr')\n",
    "  library(plyr)\n",
    "}"
   ]
  },
  {
   "cell_type": "code",
   "execution_count": null,
   "metadata": {},
   "outputs": [],
   "source": [
    "\n",
    "## Load the PEPs\n",
    "peps <- read.table(fn.peps, sep=',', header=TRUE, stringsAsFactors=FALSE)\n",
    "pep.genes <- c( peps[peps$Adenoma_Expression_Pattern < 0.05,'HumanSymbol'], peps[peps$Tumor_Expression_Pattern < 0.05,'HumanSymbol'], peps[peps$Carcinoma_Expression_Pattern < 0.05,'HumanSymbol'] )\n",
    "pep.lists <- data.frame(Gene=pep.genes, PEP=rep(NA, length(pep.genes)))\n",
    "pep.lists[ pep.lists$Gene %in% peps[peps$Adenoma_Expression_Pattern < 0.05,'HumanSymbol'], 'PEP'] <- 'Adenoma'\n",
    "pep.lists[ pep.lists$Gene %in% peps[peps$Carcinoma_Expression_Pattern < 0.05,'HumanSymbol'], 'PEP'] <- 'Carcinoma'\n",
    "pep.lists[ pep.lists$Gene %in% peps[peps$Tumor_Expression_Pattern < 0.05,'HumanSymbol'], 'PEP'] <- 'Tumor'\n",
    "peps <- pep.lists"
   ]
  },
  {
   "cell_type": "code",
   "execution_count": null,
   "metadata": {},
   "outputs": [],
   "source": [
    "\n",
    "## Load the data\n",
    "dat <- read.table(fn.brca.seq, sep='\\t', header=TRUE, row.names=1, check.names=FALSE)\n",
    "dat <- as.matrix(dat) + 1\n",
    "dat <- log(dat, base=2)\n"
   ]
  },
  {
   "cell_type": "code",
   "execution_count": null,
   "metadata": {},
   "outputs": [],
   "source": [
    "\n",
    "## Load the labels and subset to the labeled data\n",
    "labs <- read.table(fn.brca.pam50, header=FALSE, row.names=1, check.names=FALSE)\n",
    "ids <- intersect( rownames(labs), rownames(dat) )\n",
    "dat <- dat[ids,]\n",
    "labs <- labs[ids,]\n"
   ]
  },
  {
   "cell_type": "code",
   "execution_count": null,
   "metadata": {},
   "outputs": [],
   "source": [
    "## Subset to homologous genes\n",
    "genes.all <- read.table(fn.geneconvs, sep='\\t', header=TRUE, stringsAsFactors=FALSE)\n",
    "genes.all"
   ]
  },
  {
   "cell_type": "code",
   "execution_count": null,
   "metadata": {},
   "outputs": [],
   "source": [
    "## Subset PEP list to those also in human data, for our stats\n",
    "dat.ovlp <- t(dat[,colnames(dat) %in% genes.all$Hum_Symb])\n",
    "peps     <- peps[peps$Gene %in% rownames(dat.ovlp),]\n",
    "peps"
   ]
  },
  {
   "cell_type": "code",
   "execution_count": null,
   "metadata": {},
   "outputs": [],
   "source": [
    "\n",
    "## Run SAM\n",
    "sam.seed <- sample(seq(1,1e5),1) \n",
    "res <- SAM(dat.ovlp, labs, resp.type='Two class unpaired', genenames=rownames(dat.ovlp), logged2=TRUE, nperm=100, testStatistic='wilcoxon', fdr.output=5e-6, random.seed=sam.seed)\n",
    "print(paste('Using seed:', sam.seed)); flush.console()\n"
   ]
  },
  {
   "cell_type": "code",
   "execution_count": null,
   "metadata": {},
   "outputs": [],
   "source": [
    "\n",
    "## Get counts for sig up/down genes in each of the PEP lists\n",
    "sig.genes <- as.data.frame(rbind(res$siggenes.table$genes.up, res$siggenes.table$genes.lo))\n",
    "colnames(sig.genes)[6] <- 'FoldChange'\n",
    "sig.genes$FoldChange <- as.numeric(as.character(sig.genes$FoldChange))\n",
    "rownames(sig.genes) <- sig.genes[,'Gene ID']\n"
   ]
  },
  {
   "cell_type": "code",
   "execution_count": null,
   "metadata": {},
   "outputs": [],
   "source": [
    "\n",
    "sig.genes$PEP <- rownames(sig.genes) %in% peps$Gene\n",
    "sig.genes$Log10FoldChange <- log10(sig.genes$FoldChange)\n",
    "sig.genes$AbsLog10FoldChange <- abs(sig.genes$Log10FoldChange)\n"
   ]
  },
  {
   "cell_type": "code",
   "execution_count": null,
   "metadata": {},
   "outputs": [],
   "source": [
    "\n",
    "peps$AbsLog10FoldChange <- sig.genes[ peps$Gene , 'AbsLog10FoldChange']\n",
    "\n",
    "## Add non-PEP rows from sig.genes to peps, that way we can have genes in 2+ peps\n",
    "ids.nonPEP <- rownames(sig.genes)[!rownames(sig.genes) %in% peps$Gene]\n",
    "tmp  <- data.frame( AbsLog10FoldChange=sig.genes[ids.nonPEP,'AbsLog10FoldChange'], PEP='nonPEP', row.names=ids.nonPEP )\n",
    "tmp  <- data.frame( Gene=ids.nonPEP, PEP='nonPEP', AbsLog10FoldChange=sig.genes[ids.nonPEP,'AbsLog10FoldChange'] )\n",
    "peps <- rbind(peps, tmp)\n",
    "rm(tmp)\n"
   ]
  },
  {
   "cell_type": "code",
   "execution_count": null,
   "metadata": {},
   "outputs": [],
   "source": [
    "#########################################\n",
    "## Color Palette for manuscript\n",
    "#####################################\n",
    "print('Setting color palettes.'); flush.console()\n",
    "\n",
    "cols <- c('#9DC7D8','#7FA1BE','#EBDA8C','#01B3CA','#4F6E35','#965354','#7DD1B9','#808040','#C6CBCE','#1D4E88','#C78C6C','#F69256','#D2B29E','#8B868C','#E38691','#B490B2') # All colors in palette\n",
    "cols.hist <- c('#7DD1B9','#EBDA8C','#965354') # order = healthy, benign, malignant\n",
    "cols.peps <- c('#7FA1BE','#F69256','#E38691') # order = tumor, adenoma, carcinoma\n"
   ]
  },
  {
   "cell_type": "code",
   "execution_count": null,
   "metadata": {},
   "outputs": [],
   "source": [
    "#ggplot(na.omit(peps)) +  # Use if you want to show the nonPEP bar (colors will be wrong!)\n",
    "ggplot(na.omit(peps[peps$PEP!='nonPEP',])) + \n",
    "  geom_boxplot(aes(PEP, AbsLog10FoldChange, fill=PEP) ,outlier.colour = 'white', outlier.alpha=0) + \n",
    "  scale_fill_manual(values=c(cols.peps[c(1,3,2)],'grey')) +\n",
    "  coord_flip() + \n",
    "  ylim(0,1) +\n",
    "  theme_minimal() +\n",
    "  theme(axis.title = element_text(size=20), axis.text  = element_text(vjust=0.5, size=16)) +\n",
    "  geom_hline( aes(yintercept=median(peps[ peps$PEP=='nonPEP', 'AbsLog10FoldChange'])),color='black',linetype='dotdash',lwd=1.5 ) + # Non-PEP genes \n",
    "  guides(fill = \"none\")\n",
    "ggsave('PEP_BRCA_AbsLogFoldChange.pdf',width=8,height=6)\n"
   ]
  },
  {
   "cell_type": "code",
   "execution_count": null,
   "metadata": {},
   "outputs": [],
   "source": [
    "mean(sig.genes$AbsLog10FoldChange)\n",
    "\n",
    "print('Wilcoxon text absolute log10 fold change of each PEP'); flush.console()\n",
    "print(wilcox.test(AbsLog10FoldChange ~ PEP=='Adenoma', data = peps)); flush.console()\n",
    "print(wilcox.test(AbsLog10FoldChange ~ PEP=='Carcinoma', data = peps)); flush.console()\n",
    "print(wilcox.test(AbsLog10FoldChange ~ PEP=='Tumor', data = peps)); flush.console()\n"
   ]
  },
  {
   "cell_type": "code",
   "execution_count": null,
   "metadata": {},
   "outputs": [],
   "source": [
    "\n",
    "### Print out the list of oncogenes/TSGs, PEP membership, SAM score, and fold change\n",
    "## This is stored in Supp Table 5 for now.\n",
    "print('Looking for oncogenes and tumor suppressor genes in the PEPs.'); flush.console()\n",
    "genes.drivers <- read.table(fn.cosmic, sep=',', header=TRUE, stringsAsFactors=FALSE)\n",
    "genes.drivers[genes.drivers$Role.in.Cancer=='','Role.in.Cancer'] <- NA\n",
    "genes.drivers$Role.in.Cancer <- as.factor(genes.drivers$Role.in.Cancer)\n",
    "colnames(genes.drivers)[1]   <- 'Gene'\n"
   ]
  },
  {
   "cell_type": "code",
   "execution_count": null,
   "metadata": {},
   "outputs": [],
   "source": [
    "\n",
    "peps <- peps[peps$Gene %in% rownames(sig.genes),] # Only keep differentially expressed genes\n",
    "diff.eq <- join( genes.drivers, peps, by='Gene', type='inner')\n",
    "diff.eq <- diff.eq[complete.cases(diff.eq),]\n"
   ]
  },
  {
   "cell_type": "code",
   "execution_count": null,
   "metadata": {},
   "outputs": [],
   "source": [
    "## Make the table\n",
    "tbl <- table( diff.eq$Role.in.Cancer, diff.eq$PEP )\n",
    "tbl <- tbl[,which(colnames(tbl)%in%c('Adenoma','Carcinoma','Tumor'))] # Don't show non-PEP groups\n",
    "print(tbl); flush.console()\n"
   ]
  },
  {
   "cell_type": "code",
   "execution_count": null,
   "metadata": {},
   "outputs": [],
   "source": [
    "print('Storing to file'); flush.console()\n",
    "write.table(diff.eq[diff.eq$PEP!='nonPEP',], file='PEP_Roles_in_Cancer_summary.csv', col.names=TRUE, row.names=FALSE, quote=FALSE, sep=',')\n"
   ]
  },
  {
   "cell_type": "code",
   "execution_count": null,
   "metadata": {},
   "outputs": [],
   "source": [
    "\n",
    "## Plot & save\n",
    "pdf(\"PEP_Roles_in_Cancer_Barplot.pdf\")\n",
    "barplot(tbl, legend=TRUE, ylim=c(0,max(apply(tbl,2,sum))+8), col=cols[c(4,5,7)]) # Add vertical space for legend\n",
    "dev.off()\n"
   ]
  },
  {
   "cell_type": "code",
   "execution_count": null,
   "metadata": {},
   "outputs": [],
   "source": []
  }
 ],
 "metadata": {
  "kernelspec": {
   "display_name": "R",
   "language": "R",
   "name": "ir"
  },
  "language_info": {
   "codemirror_mode": "r",
   "file_extension": ".r",
   "mimetype": "text/x-r-source",
   "name": "R",
   "pygments_lexer": "r",
   "version": "3.4.2"
  }
 },
 "nbformat": 4,
 "nbformat_minor": 2
}
