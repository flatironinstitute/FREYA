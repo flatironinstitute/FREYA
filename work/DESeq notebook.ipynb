{
 "cells": [
  {
   "cell_type": "markdown",
   "metadata": {},
   "source": [
    "## DESeq processing\n",
    "\n",
    "This is a Jupyter notebook.\n",
    "\n",
    "To run all cells in the notebook use `Cell --> Run All`.\n",
    "\n",
    "To run cells one at a time click into the first code cell and key `Shift-Enter` in each cell in sequence.\n",
    "\n",
    "More information on Jupyter notebooks can be found\n",
    "[here](http://jupyter-notebook.readthedocs.io/en/stable/examples/Notebook/Running%20Code.html)."
   ]
  },
  {
   "cell_type": "code",
   "execution_count": 2,
   "metadata": {},
   "outputs": [
    {
     "name": "stdout",
     "output_type": "stream",
     "text": [
      "[1] \"ERROR: Unable to locate ./data/BRCA_tumorVSnormal_paired.txt\"\n",
      "[1] \"ERROR: Unable to locate ./data/Canine_Human_Gene_Conversion.txt\"\n",
      "[1] \"ERROR: Unable to locate ./data/COSMIC_roles_in_cancer.csv\"\n"
     ]
    }
   ],
   "source": [
    "## Set the arguments to easy-to-read names\n",
    "fn.peps <- './data/CMT_peps.csv'  # PEP lists created in the expression pipeline. This is also Supp Table 1 in the manuscript \n",
    "\n",
    "## Filenames that don't change between users\n",
    "data.dir <- './data/' # Working directory - we should be providing this with the requisite files # TODO: This will need to match the layout we give the whole pipeline. Have it be wherever we store the data\n",
    "fn.brca.seq   <- paste0(data.dir,'BRCA_rnaseq_paired_noMets.t.txt')\n",
    "fn.brca.pam50 <- paste0(data.dir,'BRCA_tumorVSnormal_paired.txt')\n",
    "fn.geneconvs  <- paste0(data.dir,'Canine_Human_Gene_Conversion.txt') # Human-dog conversion - TODO should read this from the dog genom version (see Dima's code)\n",
    "fn.cosmic       <- paste0(data.dir,'COSMIC_roles_in_cancer.csv') # COSMIC genes list, should download most recent version instead of using included one?\n",
    "\n",
    "## Make sure all of the required files exist - quit if any are missing\n",
    "for( fn in c(fn.peps, fn.brca.seq, fn.brca.pam50, fn.geneconvs, fn.cosmic) ) {\n",
    "  if(!file.exists(fn)) { print(paste('ERROR: Unable to locate',fn))}\n",
    "}"
   ]
  },
  {
   "cell_type": "code",
   "execution_count": null,
   "metadata": {},
   "outputs": [],
   "source": []
  }
 ],
 "metadata": {
  "kernelspec": {
   "display_name": "R",
   "language": "R",
   "name": "ir"
  },
  "language_info": {
   "codemirror_mode": "r",
   "file_extension": ".r",
   "mimetype": "text/x-r-source",
   "name": "R",
   "pygments_lexer": "r",
   "version": "3.4.2"
  }
 },
 "nbformat": 4,
 "nbformat_minor": 2
}
