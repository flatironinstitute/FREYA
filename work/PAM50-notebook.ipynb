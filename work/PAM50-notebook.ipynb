{
 "cells": [
  {
   "cell_type": "code",
   "execution_count": null,
   "metadata": {},
   "outputs": [],
   "source": [
    "data.dir <- './data/'\n",
    "fn.hist  <- './data/UserDogData_Phenotype.csv' # User-provided\n",
    "fn.dd    <- './data/UserDogData_RNASeq.tab'    # Dog RNASeq expression data filename\n",
    "fn.peps  <- './data/CMT_peps.csv'  # PEP lists created in the expression pipeline. This is also Supp Table 1 in the manuscript \n",
    "fn.sep   <- '\\t'     # delimiter in their files, default should be tab"
   ]
  },
  {
   "cell_type": "code",
   "execution_count": null,
   "metadata": {},
   "outputs": [],
   "source": [
    "#install.packages('glmnet')"
   ]
  },
  {
   "cell_type": "code",
   "execution_count": null,
   "metadata": {},
   "outputs": [],
   "source": [
    "source(\"https://bioconductor.org/biocLite.R\")"
   ]
  },
  {
   "cell_type": "code",
   "execution_count": null,
   "metadata": {},
   "outputs": [],
   "source": [
    "biocLite()"
   ]
  },
  {
   "cell_type": "code",
   "execution_count": null,
   "metadata": {},
   "outputs": [],
   "source": [
    "if(!require('sva')) {\n",
    "  source(\"https://bioconductor.org/biocLite.R\")\n",
    "  biocLite(\"sva\")\n",
    "  library(sva)\n",
    "}"
   ]
  },
  {
   "cell_type": "code",
   "execution_count": null,
   "metadata": {},
   "outputs": [],
   "source": [
    "if(!require('glmnet')) {\n",
    "  install.packages('glmnet')\n",
    "  library(glmnet)\n",
    "}"
   ]
  },
  {
   "cell_type": "code",
   "execution_count": null,
   "metadata": {},
   "outputs": [],
   "source": [
    "if(!require('gplots')) {\n",
    "  install.packages('gplots')\n",
    "  library(gplots)\n",
    "}"
   ]
  },
  {
   "cell_type": "code",
   "execution_count": null,
   "metadata": {},
   "outputs": [],
   "source": [
    "\n",
    "fn.pam50.genes  <- paste0(data.dir,'PAM50_genes.csv')       # This list will never change, no need to have as input\n",
    "fn.brca         <- paste0(data.dir,'BRCA_rnaseq_paired_noMets.t.txt') # TCGA paired BRCA RNA-Seq data\n",
    "fn.brca.pam50   <- paste0(data.dir,'BRCA_PAM50_labels.csv') # TCGA BRCA PAM50 labels, from: http://www.cell.com/cell/fulltext/S0092-8674(15)01195-2\n",
    "\n",
    "## Make sure all of the required files exist - quit if any are missing\n",
    "for( fn in c(fn.hist, fn.dd, fn.peps, fn.pam50.genes, fn.brca, fn.brca.pam50) ) {\n",
    "  if(!file.exists(fn)) { print(paste('ERROR: Unable to locate',fn)) }\n",
    "}"
   ]
  },
  {
   "cell_type": "code",
   "execution_count": null,
   "metadata": {},
   "outputs": [],
   "source": [
    "fn.pam50.genes"
   ]
  },
  {
   "cell_type": "code",
   "execution_count": null,
   "metadata": {},
   "outputs": [],
   "source": [
    "## PAM50 genes list - this never changes\n",
    "genes           <- rownames(read.table(fn.pam50.genes, sep=',', row.names=1))"
   ]
  },
  {
   "cell_type": "code",
   "execution_count": null,
   "metadata": {},
   "outputs": [],
   "source": [
    "genes"
   ]
  },
  {
   "cell_type": "code",
   "execution_count": null,
   "metadata": {},
   "outputs": [],
   "source": [
    "fn.peps  <- './data/CMT_peps.csv'\n",
    "peps <- read.table(fn.peps, sep=',', header=TRUE, stringsAsFactors=FALSE)"
   ]
  },
  {
   "cell_type": "code",
   "execution_count": null,
   "metadata": {},
   "outputs": [],
   "source": [
    "#peps"
   ]
  },
  {
   "cell_type": "code",
   "execution_count": null,
   "metadata": {},
   "outputs": [],
   "source": [
    "peps <- list( Adenoma=peps[peps$Adenoma_Expression_Pattern < 0.05,'HumanSymbol'], \n",
    "             Carcinoma=peps[peps$Carcinoma_Expression_Pattern < 0.05,'HumanSymbol'], \n",
    "             Tumor=peps[peps$Tumor_Expression_Pattern < 0.05,'HumanSymbol'])\n",
    "#print(sapply(peps, length)); flush.console() # Print num genes in each PEP "
   ]
  },
  {
   "cell_type": "code",
   "execution_count": null,
   "metadata": {},
   "outputs": [],
   "source": [
    "sapply(peps, length)"
   ]
  },
  {
   "cell_type": "code",
   "execution_count": null,
   "metadata": {},
   "outputs": [],
   "source": [
    "fn.brca         <- paste0(data.dir,'BRCA_rnaseq_paired_noMets.t.txt')\n",
    "dat           <- read.table(fn.brca, sep='\\t', header=T, row.names=1, check.names=F)"
   ]
  },
  {
   "cell_type": "code",
   "execution_count": null,
   "metadata": {},
   "outputs": [],
   "source": [
    "# load human data\n",
    "dat           <- dat[,genes] # Subset to PAM50 genes"
   ]
  },
  {
   "cell_type": "code",
   "execution_count": null,
   "metadata": {},
   "outputs": [],
   "source": [
    "dat           <- log(dat+0.01, base=2) # Log scale"
   ]
  },
  {
   "cell_type": "code",
   "execution_count": null,
   "metadata": {},
   "outputs": [],
   "source": [
    "dat.status    <- substr(rownames(dat),14,15) # Tumor/Normal labels"
   ]
  },
  {
   "cell_type": "code",
   "execution_count": null,
   "metadata": {},
   "outputs": [],
   "source": [
    "rownames(dat) <- substr(rownames(dat),1,15) # Remove the 'A' from labels"
   ]
  },
  {
   "cell_type": "code",
   "execution_count": null,
   "metadata": {},
   "outputs": [],
   "source": [
    "# Human samples \n",
    "\n",
    "# create pam50 labels\n",
    "pam50.labs <- read.table(fn.brca.pam50, sep=',', header=TRUE, row.names=1, check.names=FALSE)"
   ]
  },
  {
   "cell_type": "code",
   "execution_count": null,
   "metadata": {},
   "outputs": [],
   "source": [
    "\n",
    "## Subset expression & labels data to overlapping sets\n",
    "ids        <- intersect( rownames(dat), rownames(pam50.labs) )\n",
    "dat        <- dat[ids,]\n",
    "pam50.labs <- pam50.labs[ids,,drop=FALSE]"
   ]
  },
  {
   "cell_type": "code",
   "execution_count": null,
   "metadata": {},
   "outputs": [],
   "source": [
    "any(is.na(pam50.labs))"
   ]
  },
  {
   "cell_type": "code",
   "execution_count": null,
   "metadata": {},
   "outputs": [],
   "source": [
    "\n",
    "## Remove NA subtypes\n",
    "if( any(is.na(pam50.labs)) ) {\n",
    "  ids.na     <- rownames(pam50.labs)[which(!is.na(pam50.labs))] # Names for non-NA labels\n",
    "  dat        <- dat[ids.na,]\n",
    "  pam50.labs <- pam50.labs[ids.na,,drop=FALSE]\n",
    "}\n"
   ]
  },
  {
   "cell_type": "code",
   "execution_count": null,
   "metadata": {},
   "outputs": [],
   "source": [
    "## Load the canine data \n",
    "dat.dog <- read.table(fn.dd, header=TRUE, row.names=1, check.names=FALSE, sep=fn.sep)"
   ]
  },
  {
   "cell_type": "code",
   "execution_count": null,
   "metadata": {},
   "outputs": [],
   "source": [
    "## Drop both data matrices to the overlapping genes\n",
    "genes     <- genes[genes %in% colnames(dat.dog)]\n",
    "dat.dog   <- dat.dog[,genes]\n",
    "dat.pam50 <- dat[,genes]"
   ]
  },
  {
   "cell_type": "code",
   "execution_count": null,
   "metadata": {},
   "outputs": [],
   "source": [
    "## Phenotype data for the dogs\n",
    "dog.clin <- read.table(fn.hist, sep=',', header=T, row.names=1) # This should be user input"
   ]
  },
  {
   "cell_type": "code",
   "execution_count": null,
   "metadata": {},
   "outputs": [],
   "source": [
    "## Subset dog expression & phenotype data to overlapping samples\n",
    "ids <- intersect( rownames(dog.clin), rownames(dat.dog) )\n",
    "if(  !all(rownames(dog.clin) %in% ids & rownames(dat.dog) %in% ids) ) { \n",
    "  print(\"WARNING: Dog expression and phenotype data have unmatched samples!\");\n",
    "  dat.dog  <- dat.dog[ids,]\n",
    "  dog.clin <- dog.clin[ids,]\n",
    "}\n"
   ]
  },
  {
   "cell_type": "code",
   "execution_count": null,
   "metadata": {},
   "outputs": [],
   "source": [
    "# set color palettes\n",
    " \n",
    "cols.palette <- c('#9DC7D8','#7FA1BE','#EBDA8C','#01B3CA','#4F6E35','#965354','#7DD1B9','#808040','#C6CBCE','#1D4E88','#C78C6C','#F69256','#D2B29E','#8B868C','#E38691','#B490B2')\n",
    "cols.hist    <- c('#7DD1B9','#EBDA8C','#965354') # order = healthy, benign, malignant\n",
    "cols.peps    <- c('#7FA1BE','#F69256','#E38691') # order = tumor, adenoma, carcinoma\n",
    "cols         <- cols.palette[! (cols.palette %in% c(cols.hist, cols.peps)) ] # Don't resue the pep/histology colors\n",
    "\n"
   ]
  },
  {
   "cell_type": "code",
   "execution_count": null,
   "metadata": {},
   "outputs": [],
   "source": [
    "# remove batch effects\n",
    "dat.both     <- rbind( dat.dog, dat.pam50 )\n",
    "pheno        <- as.factor(c( rep('Dog', nrow(dat.dog)), rep('Human', nrow(dat.pam50)) ) )\n",
    "names(pheno) <- c(rownames(dat.dog), rownames(dat.pam50))"
   ]
  },
  {
   "cell_type": "code",
   "execution_count": null,
   "metadata": {},
   "outputs": [],
   "source": [
    "combat.edata <- t(ComBat(dat=t(dat.both), batch=pheno))"
   ]
  },
  {
   "cell_type": "code",
   "execution_count": null,
   "metadata": {},
   "outputs": [],
   "source": [
    "## Mean center the data\n",
    "combat.edata <- sweep(combat.edata, 1, rowMeans(combat.edata))"
   ]
  },
  {
   "cell_type": "code",
   "execution_count": null,
   "metadata": {},
   "outputs": [],
   "source": [
    "\n",
    "#########################################\n",
    "## Train PAM50 model & predict subtypes for dog\n",
    "#####################################\n",
    "\n",
    "## Irain subtype predictor, then predict dog samples\n",
    "res             <- cv.glmnet(combat.edata[rownames(pam50.labs),], pam50.labs[,1], family='multinomial')\n",
    "preds           <- predict(res, combat.edata, type='class')\n",
    "rownames(preds) <- rownames(combat.edata)"
   ]
  },
  {
   "cell_type": "code",
   "execution_count": null,
   "metadata": {},
   "outputs": [],
   "source": [
    "## Write predictions to file (dog only)\n",
    "write.table( preds[rownames(dat.dog),,drop=FALSE], sep=',', col.names=FALSE, row.names=TRUE, quote=FALSE, file='PAM50_dog.csv')\n"
   ]
  },
  {
   "cell_type": "code",
   "execution_count": null,
   "metadata": {},
   "outputs": [],
   "source": [
    "## Barplots of the predictions - not used in manuscript\n",
    "#print('User-check barplots');flush.console()\n",
    "pdf('PAM50_barplots.pdf')\n",
    "barplot(table(preds[rownames(pam50.labs),1], pam50.labs[,1]), legend=TRUE, col=cols) # Human sample predictions\n",
    "barplot( table(preds[rownames(combat.edata) %in% rownames(dog.clin),1], dog.clin$Hist ), legend=TRUE, col=cols ) # Dog sample predictions\n",
    "dev.off()"
   ]
  },
  {
   "cell_type": "code",
   "execution_count": null,
   "metadata": {},
   "outputs": [],
   "source": [
    "#########################################\n",
    "## Figure 6 in the manuscript - combined heatmaps\n",
    "#####################################\n",
    "\n",
    "## Identify PAM50 Genes in the PEP lists\n",
    "genes.cols <- rep('grey60', ncol(combat.edata))\n",
    "names(genes.cols) <- colnames(combat.edata)\n",
    "genes.cols[intersect(names(genes.cols), peps$Tumor)]     <- cols.peps[1] # Tumor PEP genes\n",
    "genes.cols[intersect(names(genes.cols), peps$Adenoma)]   <- cols.peps[2] # Adenoma PEP genes\n",
    "genes.cols[intersect(names(genes.cols), peps$Carcinoma)] <- cols.peps[3] # Carcinoma PEP genes\n"
   ]
  },
  {
   "cell_type": "code",
   "execution_count": null,
   "metadata": {},
   "outputs": [],
   "source": [
    "## Colors for the PAM50 subtypes\n",
    "preds.cols <- matrix(nrow=nrow(preds),ncol=ncol(preds)+1, dimnames=list(rownames(preds)))\n",
    "preds.cols[preds[,1]=='Normal',1] <- cols.palette[4]\n",
    "preds.cols[preds[,1]=='Her2',1]   <- cols.palette[13]\n",
    "preds.cols[preds[,1]=='LumA',1]   <- cols.palette[1]\n",
    "preds.cols[preds[,1]=='LumB',1]   <- cols.palette[10]\n",
    "preds.cols[preds[,1]=='Basal',1]  <- cols.palette[9]\n",
    "\n",
    "## Color bar for the species\n",
    "preds.cols[names(pheno),2]        <- pheno\n",
    "preds.cols[preds.cols[,2]=='1',2] <- cols.palette[10] # Purple\n",
    "preds.cols[preds.cols[,2]=='2',2] <- cols.palette[3] # Dark green\n"
   ]
  },
  {
   "cell_type": "code",
   "execution_count": null,
   "metadata": {},
   "outputs": [],
   "source": [
    "# generate heatmaps\n",
    "\n",
    "## Add line breaks for each PAM50 subtype gorup in the heatmaps\n",
    "tbl.preds <- table(preds)\n",
    "rowsep.nums <- c( sum(tbl.preds[1]), sum(tbl.preds[1:2]), sum(tbl.preds[1:3]), sum(tbl.preds[1:4]) )\n",
    "\n",
    "# Heatmap with PAM50 Subtype color bar\n",
    "pdf('PAM50_combined_heatmap_subtypes_bar.pdf',width=8,height=20) \n",
    "heatmap.2(combat.edata[names(sort(preds[,1])),], trace='none', col=colorRampPalette(c('blue','blue','grey20','yellow','yellow')), RowSideColors=preds.cols[names(sort(preds[,1])),1], dendrogram='column', ColSideColors=genes.cols, Rowv='none', rowsep=rowsep.nums, sepcolor='grey60')\n",
    "dev.off()"
   ]
  },
  {
   "cell_type": "code",
   "execution_count": null,
   "metadata": {},
   "outputs": [],
   "source": [
    " \n",
    "# Heatmap with species color bar\n",
    "pdf('PAM50_combined_species_bar.pdf',width=8,height=20)\n",
    "heatmap.2(combat.edata[names(sort(preds[,1])),], trace='none', col=colorRampPalette(c('blue','blue','grey20','yellow','yellow')), RowSideColors=preds.cols[names(sort(preds[,1])),2], dendrogram='column', ColSideColors=genes.cols, Rowv='none', rowsep=rowsep.nums, sepcolor='grey60')\n",
    "dev.off()\n"
   ]
  },
  {
   "cell_type": "code",
   "execution_count": null,
   "metadata": {},
   "outputs": [],
   "source": []
  }
 ],
 "metadata": {
  "kernelspec": {
   "display_name": "R",
   "language": "R",
   "name": "ir"
  },
  "language_info": {
   "codemirror_mode": "r",
   "file_extension": ".r",
   "mimetype": "text/x-r-source",
   "name": "R",
   "pygments_lexer": "r",
   "version": "3.4.2"
  }
 },
 "nbformat": 4,
 "nbformat_minor": 2
}
